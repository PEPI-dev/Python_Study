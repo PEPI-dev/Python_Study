{
 "cells": [
  {
   "cell_type": "code",
   "execution_count": 9,
   "id": "162b160a-7456-468f-9111-10eeaf1298e2",
   "metadata": {},
   "outputs": [
    {
     "name": "stdout",
     "output_type": "stream",
     "text": [
      "Requirement already satisfied: selenium in c:\\users\\kdhto\\appdata\\local\\programs\\python\\python311\\lib\\site-packages (4.15.2)\n",
      "Requirement already satisfied: urllib3[socks]<3,>=1.26 in c:\\users\\kdhto\\appdata\\local\\programs\\python\\python311\\lib\\site-packages (from selenium) (2.0.4)\n",
      "Requirement already satisfied: trio~=0.17 in c:\\users\\kdhto\\appdata\\local\\programs\\python\\python311\\lib\\site-packages (from selenium) (0.23.1)\n",
      "Requirement already satisfied: trio-websocket~=0.9 in c:\\users\\kdhto\\appdata\\local\\programs\\python\\python311\\lib\\site-packages (from selenium) (0.11.1)\n",
      "Requirement already satisfied: certifi>=2021.10.8 in c:\\users\\kdhto\\appdata\\local\\programs\\python\\python311\\lib\\site-packages (from selenium) (2023.7.22)\n",
      "Requirement already satisfied: attrs>=20.1.0 in c:\\users\\kdhto\\appdata\\local\\programs\\python\\python311\\lib\\site-packages (from trio~=0.17->selenium) (23.1.0)\n",
      "Requirement already satisfied: sortedcontainers in c:\\users\\kdhto\\appdata\\local\\programs\\python\\python311\\lib\\site-packages (from trio~=0.17->selenium) (2.4.0)\n",
      "Requirement already satisfied: idna in c:\\users\\kdhto\\appdata\\local\\programs\\python\\python311\\lib\\site-packages (from trio~=0.17->selenium) (3.4)\n",
      "Requirement already satisfied: outcome in c:\\users\\kdhto\\appdata\\local\\programs\\python\\python311\\lib\\site-packages (from trio~=0.17->selenium) (1.3.0.post0)\n",
      "Requirement already satisfied: sniffio>=1.3.0 in c:\\users\\kdhto\\appdata\\local\\programs\\python\\python311\\lib\\site-packages (from trio~=0.17->selenium) (1.3.0)\n",
      "Requirement already satisfied: cffi>=1.14 in c:\\users\\kdhto\\appdata\\local\\programs\\python\\python311\\lib\\site-packages (from trio~=0.17->selenium) (1.15.1)\n",
      "Requirement already satisfied: wsproto>=0.14 in c:\\users\\kdhto\\appdata\\local\\programs\\python\\python311\\lib\\site-packages (from trio-websocket~=0.9->selenium) (1.2.0)\n",
      "Requirement already satisfied: pysocks!=1.5.7,<2.0,>=1.5.6 in c:\\users\\kdhto\\appdata\\local\\programs\\python\\python311\\lib\\site-packages (from urllib3[socks]<3,>=1.26->selenium) (1.7.1)\n",
      "Requirement already satisfied: pycparser in c:\\users\\kdhto\\appdata\\local\\programs\\python\\python311\\lib\\site-packages (from cffi>=1.14->trio~=0.17->selenium) (2.21)\n",
      "Requirement already satisfied: h11<1,>=0.9.0 in c:\\users\\kdhto\\appdata\\local\\programs\\python\\python311\\lib\\site-packages (from wsproto>=0.14->trio-websocket~=0.9->selenium) (0.14.0)\n"
     ]
    },
    {
     "name": "stderr",
     "output_type": "stream",
     "text": [
      "\n",
      "[notice] A new release of pip is available: 23.2.1 -> 23.3.1\n",
      "[notice] To update, run: C:\\Users\\kdhto\\AppData\\Local\\Programs\\Python\\Python311\\python.exe -m pip install --upgrade pip\n"
     ]
    }
   ],
   "source": [
    "! pip install selenium"
   ]
  },
  {
   "cell_type": "code",
   "execution_count": 8,
   "id": "6c16685d-356c-4abb-88b0-3cfd9cbcc2b6",
   "metadata": {},
   "outputs": [
    {
     "name": "stdout",
     "output_type": "stream",
     "text": [
      "Requirement already satisfied: chromedriver_autoinstaller in c:\\users\\kdhto\\appdata\\local\\programs\\python\\python311\\lib\\site-packages (0.6.2)\n"
     ]
    },
    {
     "name": "stderr",
     "output_type": "stream",
     "text": [
      "\n",
      "[notice] A new release of pip is available: 23.2.1 -> 23.3.1\n",
      "[notice] To update, run: C:\\Users\\kdhto\\AppData\\Local\\Programs\\Python\\Python311\\python.exe -m pip install --upgrade pip\n"
     ]
    }
   ],
   "source": [
    "!pip install chromedriver_autoinstaller"
   ]
  },
  {
   "cell_type": "code",
   "execution_count": 39,
   "id": "a45788e3-cde9-4a00-9116-c499701242ee",
   "metadata": {},
   "outputs": [],
   "source": [
    "from selenium import webdriver\n",
    "from selenium.webdriver.common.keys import Keys"
   ]
  },
  {
   "cell_type": "code",
   "execution_count": 54,
   "id": "1a64086f-2f1c-4eda-b7d7-09d02184ed7a",
   "metadata": {},
   "outputs": [],
   "source": [
    "driver = webdriver.Chrome()\n",
    "url = 'https://www.instagram.com'\n",
    "driver.get(url)"
   ]
  },
  {
   "cell_type": "code",
   "execution_count": 55,
   "id": "3bbd5187-00b2-4a22-b444-381b22e58c2a",
   "metadata": {},
   "outputs": [
    {
     "ename": "NoSuchElementException",
     "evalue": "Message: no such element: Unable to locate element: {\"method\":\"xpath\",\"selector\":\"/html/body/div[2]/div/div/div[2]/div/div/div/div[1]/section/main/article/div[2]/div[1]/div[2]/form/div/div[1]/div/label/input\"}\n  (Session info: chrome=119.0.6045.160); For documentation on this error, please visit: https://www.selenium.dev/documentation/webdriver/troubleshooting/errors#no-such-element-exception\nStacktrace:\n\tGetHandleVerifier [0x00007FF7B01482B2+55298]\n\t(No symbol) [0x00007FF7B00B5E02]\n\t(No symbol) [0x00007FF7AFF705AB]\n\t(No symbol) [0x00007FF7AFFB175C]\n\t(No symbol) [0x00007FF7AFFB18DC]\n\t(No symbol) [0x00007FF7AFFECBC7]\n\t(No symbol) [0x00007FF7AFFD20EF]\n\t(No symbol) [0x00007FF7AFFEAAA4]\n\t(No symbol) [0x00007FF7AFFD1E83]\n\t(No symbol) [0x00007FF7AFFA670A]\n\t(No symbol) [0x00007FF7AFFA7964]\n\tGetHandleVerifier [0x00007FF7B04C0AAB+3694587]\n\tGetHandleVerifier [0x00007FF7B051728E+4048862]\n\tGetHandleVerifier [0x00007FF7B050F173+4015811]\n\tGetHandleVerifier [0x00007FF7B01E47D6+695590]\n\t(No symbol) [0x00007FF7B00C0CE8]\n\t(No symbol) [0x00007FF7B00BCF34]\n\t(No symbol) [0x00007FF7B00BD062]\n\t(No symbol) [0x00007FF7B00AD3A3]\n\tBaseThreadInitThunk [0x00007FF87309257D+29]\n\tRtlUserThreadStart [0x00007FF8739CAA58+40]\n",
     "output_type": "error",
     "traceback": [
      "\u001b[1;31m---------------------------------------------------------------------------\u001b[0m",
      "\u001b[1;31mNoSuchElementException\u001b[0m                    Traceback (most recent call last)",
      "Cell \u001b[1;32mIn[55], line 4\u001b[0m\n\u001b[0;32m      1\u001b[0m \u001b[38;5;28mid\u001b[39m \u001b[38;5;241m=\u001b[39m \u001b[38;5;124m'\u001b[39m\u001b[38;5;124mkdhtodkdhtod98\u001b[39m\u001b[38;5;124m'\u001b[39m\n\u001b[0;32m      2\u001b[0m pw \u001b[38;5;241m=\u001b[39m \u001b[38;5;124m'\u001b[39m\u001b[38;5;124m@ehdgnl0820\u001b[39m\u001b[38;5;124m'\u001b[39m\n\u001b[1;32m----> 4\u001b[0m input_id \u001b[38;5;241m=\u001b[39m \u001b[43mdriver\u001b[49m\u001b[38;5;241;43m.\u001b[39;49m\u001b[43mfind_element\u001b[49m\u001b[43m(\u001b[49m\u001b[38;5;124;43m'\u001b[39;49m\u001b[38;5;124;43mxpath\u001b[39;49m\u001b[38;5;124;43m'\u001b[39;49m\u001b[43m,\u001b[49m\u001b[38;5;124;43m'\u001b[39;49m\u001b[38;5;124;43m/html/body/div[2]/div/div/div[2]/div/div/div/div[1]/section/main/article/div[2]/div[1]/div[2]/form/div/div[1]/div/label/input\u001b[39;49m\u001b[38;5;124;43m'\u001b[39;49m\u001b[43m)\u001b[49m\n\u001b[0;32m      5\u001b[0m input_pw \u001b[38;5;241m=\u001b[39m driver\u001b[38;5;241m.\u001b[39mfind_element(\u001b[38;5;124m'\u001b[39m\u001b[38;5;124mxpath\u001b[39m\u001b[38;5;124m'\u001b[39m,\u001b[38;5;124m'\u001b[39m\u001b[38;5;124m/html/body/div[2]/div/div/div[2]/div/div/div/div[1]/section/main/article/div[2]/div[1]/div[2]/form/div/div[2]/div/label/input\u001b[39m\u001b[38;5;124m'\u001b[39m)\n",
      "File \u001b[1;32m~\\AppData\\Local\\Programs\\Python\\Python311\\Lib\\site-packages\\selenium\\webdriver\\remote\\webdriver.py:741\u001b[0m, in \u001b[0;36mWebDriver.find_element\u001b[1;34m(self, by, value)\u001b[0m\n\u001b[0;32m    738\u001b[0m     by \u001b[38;5;241m=\u001b[39m By\u001b[38;5;241m.\u001b[39mCSS_SELECTOR\n\u001b[0;32m    739\u001b[0m     value \u001b[38;5;241m=\u001b[39m \u001b[38;5;124mf\u001b[39m\u001b[38;5;124m'\u001b[39m\u001b[38;5;124m[name=\u001b[39m\u001b[38;5;124m\"\u001b[39m\u001b[38;5;132;01m{\u001b[39;00mvalue\u001b[38;5;132;01m}\u001b[39;00m\u001b[38;5;124m\"\u001b[39m\u001b[38;5;124m]\u001b[39m\u001b[38;5;124m'\u001b[39m\n\u001b[1;32m--> 741\u001b[0m \u001b[38;5;28;01mreturn\u001b[39;00m \u001b[38;5;28;43mself\u001b[39;49m\u001b[38;5;241;43m.\u001b[39;49m\u001b[43mexecute\u001b[49m\u001b[43m(\u001b[49m\u001b[43mCommand\u001b[49m\u001b[38;5;241;43m.\u001b[39;49m\u001b[43mFIND_ELEMENT\u001b[49m\u001b[43m,\u001b[49m\u001b[43m \u001b[49m\u001b[43m{\u001b[49m\u001b[38;5;124;43m\"\u001b[39;49m\u001b[38;5;124;43musing\u001b[39;49m\u001b[38;5;124;43m\"\u001b[39;49m\u001b[43m:\u001b[49m\u001b[43m \u001b[49m\u001b[43mby\u001b[49m\u001b[43m,\u001b[49m\u001b[43m \u001b[49m\u001b[38;5;124;43m\"\u001b[39;49m\u001b[38;5;124;43mvalue\u001b[39;49m\u001b[38;5;124;43m\"\u001b[39;49m\u001b[43m:\u001b[49m\u001b[43m \u001b[49m\u001b[43mvalue\u001b[49m\u001b[43m}\u001b[49m\u001b[43m)\u001b[49m[\u001b[38;5;124m\"\u001b[39m\u001b[38;5;124mvalue\u001b[39m\u001b[38;5;124m\"\u001b[39m]\n",
      "File \u001b[1;32m~\\AppData\\Local\\Programs\\Python\\Python311\\Lib\\site-packages\\selenium\\webdriver\\remote\\webdriver.py:347\u001b[0m, in \u001b[0;36mWebDriver.execute\u001b[1;34m(self, driver_command, params)\u001b[0m\n\u001b[0;32m    345\u001b[0m response \u001b[38;5;241m=\u001b[39m \u001b[38;5;28mself\u001b[39m\u001b[38;5;241m.\u001b[39mcommand_executor\u001b[38;5;241m.\u001b[39mexecute(driver_command, params)\n\u001b[0;32m    346\u001b[0m \u001b[38;5;28;01mif\u001b[39;00m response:\n\u001b[1;32m--> 347\u001b[0m     \u001b[38;5;28;43mself\u001b[39;49m\u001b[38;5;241;43m.\u001b[39;49m\u001b[43merror_handler\u001b[49m\u001b[38;5;241;43m.\u001b[39;49m\u001b[43mcheck_response\u001b[49m\u001b[43m(\u001b[49m\u001b[43mresponse\u001b[49m\u001b[43m)\u001b[49m\n\u001b[0;32m    348\u001b[0m     response[\u001b[38;5;124m\"\u001b[39m\u001b[38;5;124mvalue\u001b[39m\u001b[38;5;124m\"\u001b[39m] \u001b[38;5;241m=\u001b[39m \u001b[38;5;28mself\u001b[39m\u001b[38;5;241m.\u001b[39m_unwrap_value(response\u001b[38;5;241m.\u001b[39mget(\u001b[38;5;124m\"\u001b[39m\u001b[38;5;124mvalue\u001b[39m\u001b[38;5;124m\"\u001b[39m, \u001b[38;5;28;01mNone\u001b[39;00m))\n\u001b[0;32m    349\u001b[0m     \u001b[38;5;28;01mreturn\u001b[39;00m response\n",
      "File \u001b[1;32m~\\AppData\\Local\\Programs\\Python\\Python311\\Lib\\site-packages\\selenium\\webdriver\\remote\\errorhandler.py:229\u001b[0m, in \u001b[0;36mErrorHandler.check_response\u001b[1;34m(self, response)\u001b[0m\n\u001b[0;32m    227\u001b[0m         alert_text \u001b[38;5;241m=\u001b[39m value[\u001b[38;5;124m\"\u001b[39m\u001b[38;5;124malert\u001b[39m\u001b[38;5;124m\"\u001b[39m]\u001b[38;5;241m.\u001b[39mget(\u001b[38;5;124m\"\u001b[39m\u001b[38;5;124mtext\u001b[39m\u001b[38;5;124m\"\u001b[39m)\n\u001b[0;32m    228\u001b[0m     \u001b[38;5;28;01mraise\u001b[39;00m exception_class(message, screen, stacktrace, alert_text)  \u001b[38;5;66;03m# type: ignore[call-arg]  # mypy is not smart enough here\u001b[39;00m\n\u001b[1;32m--> 229\u001b[0m \u001b[38;5;28;01mraise\u001b[39;00m exception_class(message, screen, stacktrace)\n",
      "\u001b[1;31mNoSuchElementException\u001b[0m: Message: no such element: Unable to locate element: {\"method\":\"xpath\",\"selector\":\"/html/body/div[2]/div/div/div[2]/div/div/div/div[1]/section/main/article/div[2]/div[1]/div[2]/form/div/div[1]/div/label/input\"}\n  (Session info: chrome=119.0.6045.160); For documentation on this error, please visit: https://www.selenium.dev/documentation/webdriver/troubleshooting/errors#no-such-element-exception\nStacktrace:\n\tGetHandleVerifier [0x00007FF7B01482B2+55298]\n\t(No symbol) [0x00007FF7B00B5E02]\n\t(No symbol) [0x00007FF7AFF705AB]\n\t(No symbol) [0x00007FF7AFFB175C]\n\t(No symbol) [0x00007FF7AFFB18DC]\n\t(No symbol) [0x00007FF7AFFECBC7]\n\t(No symbol) [0x00007FF7AFFD20EF]\n\t(No symbol) [0x00007FF7AFFEAAA4]\n\t(No symbol) [0x00007FF7AFFD1E83]\n\t(No symbol) [0x00007FF7AFFA670A]\n\t(No symbol) [0x00007FF7AFFA7964]\n\tGetHandleVerifier [0x00007FF7B04C0AAB+3694587]\n\tGetHandleVerifier [0x00007FF7B051728E+4048862]\n\tGetHandleVerifier [0x00007FF7B050F173+4015811]\n\tGetHandleVerifier [0x00007FF7B01E47D6+695590]\n\t(No symbol) [0x00007FF7B00C0CE8]\n\t(No symbol) [0x00007FF7B00BCF34]\n\t(No symbol) [0x00007FF7B00BD062]\n\t(No symbol) [0x00007FF7B00AD3A3]\n\tBaseThreadInitThunk [0x00007FF87309257D+29]\n\tRtlUserThreadStart [0x00007FF8739CAA58+40]\n"
     ]
    }
   ],
   "source": [
    "id = 'kdhtodkdhtod98'\n",
    "pw = '@ehdgnl0820'\n",
    "\n",
    "input_id = driver.find_element('xpath','/html/body/div[2]/div/div/div[2]/div/div/div/div[1]/section/main/article/div[2]/div[1]/div[2]/form/div/div[1]/div/label/input')\n",
    "input_pw = driver.find_element('xpath','/html/body/div[2]/div/div/div[2]/div/div/div/div[1]/section/main/article/div[2]/div[1]/div[2]/form/div/div[2]/div/label/input')"
   ]
  },
  {
   "cell_type": "code",
   "execution_count": 56,
   "id": "60d9fa46-55da-4b1b-923b-34418ce3f824",
   "metadata": {},
   "outputs": [
    {
     "ename": "NoSuchWindowException",
     "evalue": "Message: no such window: target window already closed\nfrom unknown error: web view not found\n  (Session info: chrome=119.0.6045.160)\nStacktrace:\n\tGetHandleVerifier [0x00007FF7B01482B2+55298]\n\t(No symbol) [0x00007FF7B00B5E02]\n\t(No symbol) [0x00007FF7AFF705AB]\n\t(No symbol) [0x00007FF7AFF50038]\n\t(No symbol) [0x00007FF7AFFD6BC7]\n\t(No symbol) [0x00007FF7AFFEA15F]\n\t(No symbol) [0x00007FF7AFFD1E83]\n\t(No symbol) [0x00007FF7AFFA670A]\n\t(No symbol) [0x00007FF7AFFA7964]\n\tGetHandleVerifier [0x00007FF7B04C0AAB+3694587]\n\tGetHandleVerifier [0x00007FF7B051728E+4048862]\n\tGetHandleVerifier [0x00007FF7B050F173+4015811]\n\tGetHandleVerifier [0x00007FF7B01E47D6+695590]\n\t(No symbol) [0x00007FF7B00C0CE8]\n\t(No symbol) [0x00007FF7B00BCF34]\n\t(No symbol) [0x00007FF7B00BD062]\n\t(No symbol) [0x00007FF7B00AD3A3]\n\tBaseThreadInitThunk [0x00007FF87309257D+29]\n\tRtlUserThreadStart [0x00007FF8739CAA58+40]\n",
     "output_type": "error",
     "traceback": [
      "\u001b[1;31m---------------------------------------------------------------------------\u001b[0m",
      "\u001b[1;31mNoSuchWindowException\u001b[0m                     Traceback (most recent call last)",
      "Cell \u001b[1;32mIn[56], line 1\u001b[0m\n\u001b[1;32m----> 1\u001b[0m \u001b[43minput_id\u001b[49m\u001b[38;5;241;43m.\u001b[39;49m\u001b[43msend_keys\u001b[49m\u001b[43m(\u001b[49m\u001b[38;5;28;43mid\u001b[39;49m\u001b[43m)\u001b[49m\n\u001b[0;32m      2\u001b[0m input_pw\u001b[38;5;241m.\u001b[39msend_keys(pw)\n",
      "File \u001b[1;32m~\\AppData\\Local\\Programs\\Python\\Python311\\Lib\\site-packages\\selenium\\webdriver\\remote\\webelement.py:230\u001b[0m, in \u001b[0;36mWebElement.send_keys\u001b[1;34m(self, *value)\u001b[0m\n\u001b[0;32m    227\u001b[0m             remote_files\u001b[38;5;241m.\u001b[39mappend(\u001b[38;5;28mself\u001b[39m\u001b[38;5;241m.\u001b[39m_upload(file))\n\u001b[0;32m    228\u001b[0m         value \u001b[38;5;241m=\u001b[39m \u001b[38;5;124m\"\u001b[39m\u001b[38;5;130;01m\\n\u001b[39;00m\u001b[38;5;124m\"\u001b[39m\u001b[38;5;241m.\u001b[39mjoin(remote_files)\n\u001b[1;32m--> 230\u001b[0m \u001b[38;5;28;43mself\u001b[39;49m\u001b[38;5;241;43m.\u001b[39;49m\u001b[43m_execute\u001b[49m\u001b[43m(\u001b[49m\n\u001b[0;32m    231\u001b[0m \u001b[43m    \u001b[49m\u001b[43mCommand\u001b[49m\u001b[38;5;241;43m.\u001b[39;49m\u001b[43mSEND_KEYS_TO_ELEMENT\u001b[49m\u001b[43m,\u001b[49m\u001b[43m \u001b[49m\u001b[43m{\u001b[49m\u001b[38;5;124;43m\"\u001b[39;49m\u001b[38;5;124;43mtext\u001b[39;49m\u001b[38;5;124;43m\"\u001b[39;49m\u001b[43m:\u001b[49m\u001b[43m \u001b[49m\u001b[38;5;124;43m\"\u001b[39;49m\u001b[38;5;124;43m\"\u001b[39;49m\u001b[38;5;241;43m.\u001b[39;49m\u001b[43mjoin\u001b[49m\u001b[43m(\u001b[49m\u001b[43mkeys_to_typing\u001b[49m\u001b[43m(\u001b[49m\u001b[43mvalue\u001b[49m\u001b[43m)\u001b[49m\u001b[43m)\u001b[49m\u001b[43m,\u001b[49m\u001b[43m \u001b[49m\u001b[38;5;124;43m\"\u001b[39;49m\u001b[38;5;124;43mvalue\u001b[39;49m\u001b[38;5;124;43m\"\u001b[39;49m\u001b[43m:\u001b[49m\u001b[43m \u001b[49m\u001b[43mkeys_to_typing\u001b[49m\u001b[43m(\u001b[49m\u001b[43mvalue\u001b[49m\u001b[43m)\u001b[49m\u001b[43m}\u001b[49m\n\u001b[0;32m    232\u001b[0m \u001b[43m\u001b[49m\u001b[43m)\u001b[49m\n",
      "File \u001b[1;32m~\\AppData\\Local\\Programs\\Python\\Python311\\Lib\\site-packages\\selenium\\webdriver\\remote\\webelement.py:394\u001b[0m, in \u001b[0;36mWebElement._execute\u001b[1;34m(self, command, params)\u001b[0m\n\u001b[0;32m    392\u001b[0m     params \u001b[38;5;241m=\u001b[39m {}\n\u001b[0;32m    393\u001b[0m params[\u001b[38;5;124m\"\u001b[39m\u001b[38;5;124mid\u001b[39m\u001b[38;5;124m\"\u001b[39m] \u001b[38;5;241m=\u001b[39m \u001b[38;5;28mself\u001b[39m\u001b[38;5;241m.\u001b[39m_id\n\u001b[1;32m--> 394\u001b[0m \u001b[38;5;28;01mreturn\u001b[39;00m \u001b[38;5;28;43mself\u001b[39;49m\u001b[38;5;241;43m.\u001b[39;49m\u001b[43m_parent\u001b[49m\u001b[38;5;241;43m.\u001b[39;49m\u001b[43mexecute\u001b[49m\u001b[43m(\u001b[49m\u001b[43mcommand\u001b[49m\u001b[43m,\u001b[49m\u001b[43m \u001b[49m\u001b[43mparams\u001b[49m\u001b[43m)\u001b[49m\n",
      "File \u001b[1;32m~\\AppData\\Local\\Programs\\Python\\Python311\\Lib\\site-packages\\selenium\\webdriver\\remote\\webdriver.py:347\u001b[0m, in \u001b[0;36mWebDriver.execute\u001b[1;34m(self, driver_command, params)\u001b[0m\n\u001b[0;32m    345\u001b[0m response \u001b[38;5;241m=\u001b[39m \u001b[38;5;28mself\u001b[39m\u001b[38;5;241m.\u001b[39mcommand_executor\u001b[38;5;241m.\u001b[39mexecute(driver_command, params)\n\u001b[0;32m    346\u001b[0m \u001b[38;5;28;01mif\u001b[39;00m response:\n\u001b[1;32m--> 347\u001b[0m     \u001b[38;5;28;43mself\u001b[39;49m\u001b[38;5;241;43m.\u001b[39;49m\u001b[43merror_handler\u001b[49m\u001b[38;5;241;43m.\u001b[39;49m\u001b[43mcheck_response\u001b[49m\u001b[43m(\u001b[49m\u001b[43mresponse\u001b[49m\u001b[43m)\u001b[49m\n\u001b[0;32m    348\u001b[0m     response[\u001b[38;5;124m\"\u001b[39m\u001b[38;5;124mvalue\u001b[39m\u001b[38;5;124m\"\u001b[39m] \u001b[38;5;241m=\u001b[39m \u001b[38;5;28mself\u001b[39m\u001b[38;5;241m.\u001b[39m_unwrap_value(response\u001b[38;5;241m.\u001b[39mget(\u001b[38;5;124m\"\u001b[39m\u001b[38;5;124mvalue\u001b[39m\u001b[38;5;124m\"\u001b[39m, \u001b[38;5;28;01mNone\u001b[39;00m))\n\u001b[0;32m    349\u001b[0m     \u001b[38;5;28;01mreturn\u001b[39;00m response\n",
      "File \u001b[1;32m~\\AppData\\Local\\Programs\\Python\\Python311\\Lib\\site-packages\\selenium\\webdriver\\remote\\errorhandler.py:229\u001b[0m, in \u001b[0;36mErrorHandler.check_response\u001b[1;34m(self, response)\u001b[0m\n\u001b[0;32m    227\u001b[0m         alert_text \u001b[38;5;241m=\u001b[39m value[\u001b[38;5;124m\"\u001b[39m\u001b[38;5;124malert\u001b[39m\u001b[38;5;124m\"\u001b[39m]\u001b[38;5;241m.\u001b[39mget(\u001b[38;5;124m\"\u001b[39m\u001b[38;5;124mtext\u001b[39m\u001b[38;5;124m\"\u001b[39m)\n\u001b[0;32m    228\u001b[0m     \u001b[38;5;28;01mraise\u001b[39;00m exception_class(message, screen, stacktrace, alert_text)  \u001b[38;5;66;03m# type: ignore[call-arg]  # mypy is not smart enough here\u001b[39;00m\n\u001b[1;32m--> 229\u001b[0m \u001b[38;5;28;01mraise\u001b[39;00m exception_class(message, screen, stacktrace)\n",
      "\u001b[1;31mNoSuchWindowException\u001b[0m: Message: no such window: target window already closed\nfrom unknown error: web view not found\n  (Session info: chrome=119.0.6045.160)\nStacktrace:\n\tGetHandleVerifier [0x00007FF7B01482B2+55298]\n\t(No symbol) [0x00007FF7B00B5E02]\n\t(No symbol) [0x00007FF7AFF705AB]\n\t(No symbol) [0x00007FF7AFF50038]\n\t(No symbol) [0x00007FF7AFFD6BC7]\n\t(No symbol) [0x00007FF7AFFEA15F]\n\t(No symbol) [0x00007FF7AFFD1E83]\n\t(No symbol) [0x00007FF7AFFA670A]\n\t(No symbol) [0x00007FF7AFFA7964]\n\tGetHandleVerifier [0x00007FF7B04C0AAB+3694587]\n\tGetHandleVerifier [0x00007FF7B051728E+4048862]\n\tGetHandleVerifier [0x00007FF7B050F173+4015811]\n\tGetHandleVerifier [0x00007FF7B01E47D6+695590]\n\t(No symbol) [0x00007FF7B00C0CE8]\n\t(No symbol) [0x00007FF7B00BCF34]\n\t(No symbol) [0x00007FF7B00BD062]\n\t(No symbol) [0x00007FF7B00AD3A3]\n\tBaseThreadInitThunk [0x00007FF87309257D+29]\n\tRtlUserThreadStart [0x00007FF8739CAA58+40]\n"
     ]
    }
   ],
   "source": [
    "input_id.send_keys(id)\n",
    "input_pw.send_keys(pw)"
   ]
  },
  {
   "cell_type": "code",
   "execution_count": 45,
   "id": "bb0c3602-f652-41b2-a0e9-ba07f273a749",
   "metadata": {},
   "outputs": [
    {
     "ename": "ElementClickInterceptedException",
     "evalue": "Message: element click intercepted: Element <button class=\" _acan _acap _acas _aj1- _ap30\" disabled=\"\" type=\"submit\">...</button> is not clickable at point (716, 294). Other element would receive the click: <div class=\"x9f619 xjbqb8w x78zum5 x168nmei x13lgxp2 x5pf9jr xo71vjh x1xmf6yo x1e56ztr x540dpk x1m39q7l x1n2onr6 x1plvlek xryxfnj x1c4vz4f x2lah0s xdt5ytf xqjyukv x1qjc9v5 x1oa3qoh x1nhvcw1\">...</div>\n  (Session info: chrome=119.0.6045.160)\nStacktrace:\n\tGetHandleVerifier [0x00007FF7B01482B2+55298]\n\t(No symbol) [0x00007FF7B00B5E02]\n\t(No symbol) [0x00007FF7AFF705AB]\n\t(No symbol) [0x00007FF7AFFB7A77]\n\t(No symbol) [0x00007FF7AFFB5E39]\n\t(No symbol) [0x00007FF7AFFB3C08]\n\t(No symbol) [0x00007FF7AFFB2C8A]\n\t(No symbol) [0x00007FF7AFFA87BF]\n\t(No symbol) [0x00007FF7AFFD20AA]\n\t(No symbol) [0x00007FF7AFFA80CF]\n\t(No symbol) [0x00007FF7AFFD22C0]\n\t(No symbol) [0x00007FF7AFFEAAA4]\n\t(No symbol) [0x00007FF7AFFD1E83]\n\t(No symbol) [0x00007FF7AFFA670A]\n\t(No symbol) [0x00007FF7AFFA7964]\n\tGetHandleVerifier [0x00007FF7B04C0AAB+3694587]\n\tGetHandleVerifier [0x00007FF7B051728E+4048862]\n\tGetHandleVerifier [0x00007FF7B050F173+4015811]\n\tGetHandleVerifier [0x00007FF7B01E47D6+695590]\n\t(No symbol) [0x00007FF7B00C0CE8]\n\t(No symbol) [0x00007FF7B00BCF34]\n\t(No symbol) [0x00007FF7B00BD062]\n\t(No symbol) [0x00007FF7B00AD3A3]\n\tBaseThreadInitThunk [0x00007FF87309257D+29]\n\tRtlUserThreadStart [0x00007FF8739CAA58+40]\n",
     "output_type": "error",
     "traceback": [
      "\u001b[1;31m---------------------------------------------------------------------------\u001b[0m",
      "\u001b[1;31mElementClickInterceptedException\u001b[0m          Traceback (most recent call last)",
      "Cell \u001b[1;32mIn[45], line 1\u001b[0m\n\u001b[1;32m----> 1\u001b[0m \u001b[43mdriver\u001b[49m\u001b[38;5;241;43m.\u001b[39;49m\u001b[43mfind_element\u001b[49m\u001b[43m(\u001b[49m\u001b[38;5;124;43m'\u001b[39;49m\u001b[38;5;124;43mxpath\u001b[39;49m\u001b[38;5;124;43m'\u001b[39;49m\u001b[43m,\u001b[49m\u001b[38;5;124;43m'\u001b[39;49m\u001b[38;5;124;43m/html/body/div[2]/div/div/div[2]/div/div/div/div[1]/section/main/article/div[2]/div[1]/div[2]/form/div/div[3]/button\u001b[39;49m\u001b[38;5;124;43m'\u001b[39;49m\u001b[43m)\u001b[49m\u001b[38;5;241;43m.\u001b[39;49m\u001b[43mclick\u001b[49m\u001b[43m(\u001b[49m\u001b[43m)\u001b[49m\n",
      "File \u001b[1;32m~\\AppData\\Local\\Programs\\Python\\Python311\\Lib\\site-packages\\selenium\\webdriver\\remote\\webelement.py:93\u001b[0m, in \u001b[0;36mWebElement.click\u001b[1;34m(self)\u001b[0m\n\u001b[0;32m     91\u001b[0m \u001b[38;5;28;01mdef\u001b[39;00m \u001b[38;5;21mclick\u001b[39m(\u001b[38;5;28mself\u001b[39m) \u001b[38;5;241m-\u001b[39m\u001b[38;5;241m>\u001b[39m \u001b[38;5;28;01mNone\u001b[39;00m:\n\u001b[0;32m     92\u001b[0m \u001b[38;5;250m    \u001b[39m\u001b[38;5;124;03m\"\"\"Clicks the element.\"\"\"\u001b[39;00m\n\u001b[1;32m---> 93\u001b[0m     \u001b[38;5;28;43mself\u001b[39;49m\u001b[38;5;241;43m.\u001b[39;49m\u001b[43m_execute\u001b[49m\u001b[43m(\u001b[49m\u001b[43mCommand\u001b[49m\u001b[38;5;241;43m.\u001b[39;49m\u001b[43mCLICK_ELEMENT\u001b[49m\u001b[43m)\u001b[49m\n",
      "File \u001b[1;32m~\\AppData\\Local\\Programs\\Python\\Python311\\Lib\\site-packages\\selenium\\webdriver\\remote\\webelement.py:394\u001b[0m, in \u001b[0;36mWebElement._execute\u001b[1;34m(self, command, params)\u001b[0m\n\u001b[0;32m    392\u001b[0m     params \u001b[38;5;241m=\u001b[39m {}\n\u001b[0;32m    393\u001b[0m params[\u001b[38;5;124m\"\u001b[39m\u001b[38;5;124mid\u001b[39m\u001b[38;5;124m\"\u001b[39m] \u001b[38;5;241m=\u001b[39m \u001b[38;5;28mself\u001b[39m\u001b[38;5;241m.\u001b[39m_id\n\u001b[1;32m--> 394\u001b[0m \u001b[38;5;28;01mreturn\u001b[39;00m \u001b[38;5;28;43mself\u001b[39;49m\u001b[38;5;241;43m.\u001b[39;49m\u001b[43m_parent\u001b[49m\u001b[38;5;241;43m.\u001b[39;49m\u001b[43mexecute\u001b[49m\u001b[43m(\u001b[49m\u001b[43mcommand\u001b[49m\u001b[43m,\u001b[49m\u001b[43m \u001b[49m\u001b[43mparams\u001b[49m\u001b[43m)\u001b[49m\n",
      "File \u001b[1;32m~\\AppData\\Local\\Programs\\Python\\Python311\\Lib\\site-packages\\selenium\\webdriver\\remote\\webdriver.py:347\u001b[0m, in \u001b[0;36mWebDriver.execute\u001b[1;34m(self, driver_command, params)\u001b[0m\n\u001b[0;32m    345\u001b[0m response \u001b[38;5;241m=\u001b[39m \u001b[38;5;28mself\u001b[39m\u001b[38;5;241m.\u001b[39mcommand_executor\u001b[38;5;241m.\u001b[39mexecute(driver_command, params)\n\u001b[0;32m    346\u001b[0m \u001b[38;5;28;01mif\u001b[39;00m response:\n\u001b[1;32m--> 347\u001b[0m     \u001b[38;5;28;43mself\u001b[39;49m\u001b[38;5;241;43m.\u001b[39;49m\u001b[43merror_handler\u001b[49m\u001b[38;5;241;43m.\u001b[39;49m\u001b[43mcheck_response\u001b[49m\u001b[43m(\u001b[49m\u001b[43mresponse\u001b[49m\u001b[43m)\u001b[49m\n\u001b[0;32m    348\u001b[0m     response[\u001b[38;5;124m\"\u001b[39m\u001b[38;5;124mvalue\u001b[39m\u001b[38;5;124m\"\u001b[39m] \u001b[38;5;241m=\u001b[39m \u001b[38;5;28mself\u001b[39m\u001b[38;5;241m.\u001b[39m_unwrap_value(response\u001b[38;5;241m.\u001b[39mget(\u001b[38;5;124m\"\u001b[39m\u001b[38;5;124mvalue\u001b[39m\u001b[38;5;124m\"\u001b[39m, \u001b[38;5;28;01mNone\u001b[39;00m))\n\u001b[0;32m    349\u001b[0m     \u001b[38;5;28;01mreturn\u001b[39;00m response\n",
      "File \u001b[1;32m~\\AppData\\Local\\Programs\\Python\\Python311\\Lib\\site-packages\\selenium\\webdriver\\remote\\errorhandler.py:229\u001b[0m, in \u001b[0;36mErrorHandler.check_response\u001b[1;34m(self, response)\u001b[0m\n\u001b[0;32m    227\u001b[0m         alert_text \u001b[38;5;241m=\u001b[39m value[\u001b[38;5;124m\"\u001b[39m\u001b[38;5;124malert\u001b[39m\u001b[38;5;124m\"\u001b[39m]\u001b[38;5;241m.\u001b[39mget(\u001b[38;5;124m\"\u001b[39m\u001b[38;5;124mtext\u001b[39m\u001b[38;5;124m\"\u001b[39m)\n\u001b[0;32m    228\u001b[0m     \u001b[38;5;28;01mraise\u001b[39;00m exception_class(message, screen, stacktrace, alert_text)  \u001b[38;5;66;03m# type: ignore[call-arg]  # mypy is not smart enough here\u001b[39;00m\n\u001b[1;32m--> 229\u001b[0m \u001b[38;5;28;01mraise\u001b[39;00m exception_class(message, screen, stacktrace)\n",
      "\u001b[1;31mElementClickInterceptedException\u001b[0m: Message: element click intercepted: Element <button class=\" _acan _acap _acas _aj1- _ap30\" disabled=\"\" type=\"submit\">...</button> is not clickable at point (716, 294). Other element would receive the click: <div class=\"x9f619 xjbqb8w x78zum5 x168nmei x13lgxp2 x5pf9jr xo71vjh x1xmf6yo x1e56ztr x540dpk x1m39q7l x1n2onr6 x1plvlek xryxfnj x1c4vz4f x2lah0s xdt5ytf xqjyukv x1qjc9v5 x1oa3qoh x1nhvcw1\">...</div>\n  (Session info: chrome=119.0.6045.160)\nStacktrace:\n\tGetHandleVerifier [0x00007FF7B01482B2+55298]\n\t(No symbol) [0x00007FF7B00B5E02]\n\t(No symbol) [0x00007FF7AFF705AB]\n\t(No symbol) [0x00007FF7AFFB7A77]\n\t(No symbol) [0x00007FF7AFFB5E39]\n\t(No symbol) [0x00007FF7AFFB3C08]\n\t(No symbol) [0x00007FF7AFFB2C8A]\n\t(No symbol) [0x00007FF7AFFA87BF]\n\t(No symbol) [0x00007FF7AFFD20AA]\n\t(No symbol) [0x00007FF7AFFA80CF]\n\t(No symbol) [0x00007FF7AFFD22C0]\n\t(No symbol) [0x00007FF7AFFEAAA4]\n\t(No symbol) [0x00007FF7AFFD1E83]\n\t(No symbol) [0x00007FF7AFFA670A]\n\t(No symbol) [0x00007FF7AFFA7964]\n\tGetHandleVerifier [0x00007FF7B04C0AAB+3694587]\n\tGetHandleVerifier [0x00007FF7B051728E+4048862]\n\tGetHandleVerifier [0x00007FF7B050F173+4015811]\n\tGetHandleVerifier [0x00007FF7B01E47D6+695590]\n\t(No symbol) [0x00007FF7B00C0CE8]\n\t(No symbol) [0x00007FF7B00BCF34]\n\t(No symbol) [0x00007FF7B00BD062]\n\t(No symbol) [0x00007FF7B00AD3A3]\n\tBaseThreadInitThunk [0x00007FF87309257D+29]\n\tRtlUserThreadStart [0x00007FF8739CAA58+40]\n"
     ]
    }
   ],
   "source": [
    "driver.find_element('xpath','/html/body/div[2]/div/div/div[2]/div/div/div/div[1]/section/main/article/div[2]/div[1]/div[2]/form/div/div[3]/button').click()"
   ]
  },
  {
   "cell_type": "markdown",
   "id": "f8054726-d592-4d50-b216-24f2ad12a5b2",
   "metadata": {},
   "source": [
    "# 2. 해시태그 검색"
   ]
  },
  {
   "cell_type": "code",
   "execution_count": 51,
   "id": "fb8ff320-ea69-4f3e-b9a2-d20d0549ad80",
   "metadata": {},
   "outputs": [],
   "source": [
    "hashtag = '방어'\n",
    "url = f'https://www.instagram.com/explore/tags/{hashtag}/'\n",
    "driver.get(url)"
   ]
  },
  {
   "cell_type": "code",
   "execution_count": 52,
   "id": "74930511-bb6a-40d7-a97c-e38ac488e556",
   "metadata": {},
   "outputs": [],
   "source": [
    "hashtag = '방어'\n",
    "url = f'https://www.instagram.com/explore/tags/{hashtag}/'\n",
    "driver.get(url)"
   ]
  },
  {
   "cell_type": "code",
   "execution_count": 65,
   "id": "9187f1ae-fa53-4075-94cd-8483515f5819",
   "metadata": {},
   "outputs": [],
   "source": [
    "for _ in range(101):\n",
    "    input_text = driver.find_element('xpath', '/html/body/div[2]/div/div/div[2]/div/div/div/div[1]/div[1]/div[2]/section/div/div/div/div[1]/div/div[2]/div/div/div/div/div/div[2]/div/div/div[2]/div/div/div[2]/div/div[1]/p')\n",
    "    txt = '김한민 존잘 차은우급'\n",
    "    input_text.send_keys(txt)\n",
    "    push = driver.find_element('xpath', '/html/body/div[2]/div/div/div[2]/div/div/div/div[1]/div[1]/div[2]/section/div/div/div/div[1]/div/div[2]/div/div/div/div/div/div[2]/div/div/div[2]/div/div/div[3]').click()"
   ]
  },
  {
   "cell_type": "markdown",
   "id": "10a56013-7106-4848-bc3b-8a96856bfa57",
   "metadata": {},
   "source": [
    "# 3. 스크롤 내리기"
   ]
  },
  {
   "cell_type": "code",
   "execution_count": 49,
   "id": "7fe6ef50-5157-4218-b9b0-bec7bc871538",
   "metadata": {},
   "outputs": [],
   "source": [
    "for _ in range(1):\n",
    "    driver.execute_script('window.scrollTo(0,document.body.scrollHeight)')"
   ]
  },
  {
   "cell_type": "markdown",
   "id": "9c79d723-68a9-47e9-8747-4150ace5a7e2",
   "metadata": {},
   "source": [
    "# 4. 원하는 사진 클릭"
   ]
  },
  {
   "cell_type": "code",
   "execution_count": 66,
   "id": "ba36e394-1a9e-4ac0-8387-bf45f7559414",
   "metadata": {},
   "outputs": [],
   "source": [
    "xpath = '/html/body/div[2]/div/div/div[2]/div/div/div/div[1]/div[1]/div[2]/section/main/article/div/div/div/div[1]/div[3]/a/div[1]/div[2]'\n",
    "driver.find_element('xpath',xpath).click()"
   ]
  },
  {
   "cell_type": "markdown",
   "id": "bd587f5b-6296-4094-b4c2-0a86e3578a67",
   "metadata": {},
   "source": [
    "# 5. 좋아요 클릭 및 댓글달기"
   ]
  },
  {
   "cell_type": "code",
   "execution_count": 67,
   "id": "b9f59877-9a82-4299-b38e-c4787ae058c2",
   "metadata": {},
   "outputs": [],
   "source": [
    "xpath = '/html/body/div[9]/div[1]/div/div[3]/div/div/div/div/div[2]/div/article/div/div[2]/div/div/div[2]/section[1]/span[1]/div/div'\n",
    "driver.find_element('xpath',xpath).click()"
   ]
  },
  {
   "cell_type": "code",
   "execution_count": 73,
   "id": "5a135cce-2f4e-44ee-91ac-a3832aca5c26",
   "metadata": {},
   "outputs": [],
   "source": [
    "comment = '피자스쿨에 저렇게 맛있는 조합이있다고?'\n",
    "xpath = '/html/body/div[9]/div[1]/div/div[3]/div/div/div/div/div[2]/div/article/div/div[2]/div/div/div[2]/section[3]/div/form/div/textarea'\n",
    "send = '/html/body/div[9]/div[1]/div/div[3]/div/div/div/div/div[2]/div/article/div/div[2]/div/div/div[2]/section[3]/div/form/div/div[2]/div'\n",
    "driver.find_element('xpath',xpath).send_keys(comment)\n",
    "driver.find_element('xpath',xpath).click()\n",
    "driver.find_element('xpath',send).click()"
   ]
  },
  {
   "cell_type": "markdown",
   "id": "3c8690ad-526a-4a68-8707-43722fcf6df1",
   "metadata": {},
   "source": [
    "# 6. 함수로 리팩토링"
   ]
  },
  {
   "cell_type": "code",
   "execution_count": null,
   "id": "fc472f80-136a-44b1-925f-6062520f2e55",
   "metadata": {},
   "outputs": [],
   "source": [
    "driver = webdriver.Chrome()\n",
    "url = 'https://www.instagram.com/'\n",
    "driver.get(url)\n",
    "driver.implicitly_wait(3)\n",
    "id = 'kdhtodkdhtod98'\n",
    "pw = '@ehdgnl0820'\n",
    "# 로그인\n",
    "# sleep(3)\n",
    "# 태그 검색\n",
    "# sleep(3)\n",
    "# 특정 이미지 선택 후 함수에 적용한 숫자만큼 좋아요, 댓글쓰기 반복\n",
    "def login():\n",
    "    input_id = driver.find_element('xpath', '/html/body/div[2]/div/div/div[2]/div/div/div/div[1]/section/main/article/div[2]/div[1]/div[2]/form/div/div[1]/div/label/input')\n",
    "    input_pw = driver.find_element('xpath', '/html/body/div[2]/div/div/div[2]/div/div/div/div[1]/section/main/article/div[2]/div[1]/div[2]/form/div/div[2]/div/label/input')\n",
    "    input_id.send_keys(id)\n",
    "    input_pw.send_keys(pw)\n",
    "    driver.find_element('xpath', '/html/body/div[2]/div/div/div[2]/div/div/div/div[1]/section/main/article/div[2]/div[1]/div[2]/form/div/div[3]/button').click()\n",
    "def search_tag(tag):\n",
    "    url = f'https://www.instagram.com/explore/tags/{tag}/'\n",
    "    driver.get(url)\n",
    "def select_post(n):\n",
    "    line = (n // 3) + 1\n",
    "    row = n % 3\n",
    "    driver.find_element('xpath', f'/html/body/div[2]/div/div/div[2]/div/div/div/div[1]/div[1]/div[2]/section/main/article/div/div/div/div[{line}]/div[{row}]/a').click()\n",
    "def like_before():\n",
    "    driver.find_element('xpath', '/html/body/div[7]/div[1]/div/div[3]/div/div/div/div/div[2]/div/article/div/div[2]/div/div/div[2]/section[1]/span[1]/div').click()\n",
    "def like_after():\n",
    "    driver.find_element('xpath', '/html/body/div[6]/div[1]/div/div[3]/div/div/div/div/div[2]/div/article/div/div[2]/div/div/div[2]/section[1]/span[1]/div').click()\n",
    "def comment_before(text):\n",
    "    try:\n",
    "        driver.find_element('xpath', '/html/body/div[7]/div[1]/div/div[3]/div/div/div/div/div[2]/div/article/div/div[2]/div/div/div[2]/section[3]/div/form/div/textarea').click()\n",
    "        driver.find_element('xpath', '/html/body/div[7]/div[1]/div/div[3]/div/div/div/div/div[2]/div/article/div/div[2]/div/div/div[2]/section[3]/div/form/div/textarea').send_keys(text)\n",
    "    except Exception as e:\n",
    "        return False\n",
    "def comment_after(text):\n",
    "    try:\n",
    "        driver.find_element('xpath', '/html/body/div[6]/div[1]/div/div[3]/div/div/div/div/div[2]/div/article/div/div[2]/div/div/div[2]/section[3]/div/form/div/textarea').click()\n",
    "        driver.find_element('xpath', '/html/body/div[6]/div[1]/div/div[3]/div/div/div/div/div[2]/div/article/div/div[2]/div/div/div[2]/section[3]/div/form/div/textarea').send_keys(text)\n",
    "    except Exception as e:\n",
    "        return False\n",
    "def comment_submit_before():\n",
    "    try:\n",
    "        driver.find_element('xpath', '/html/body/div[7]/div[1]/div/div[3]/div/div/div/div/div[2]/div/article/div/div[2]/div/div/div[2]/section[3]/div/form/div/div[2]').click()\n",
    "    except Exception as e:\n",
    "        return False\n",
    "def comment_submit_after():\n",
    "    try:\n",
    "        driver.find_element('xpath', '/html/body/div[6]/div[1]/div/div[3]/div/div/div/div/div[2]/div/article/div/div[2]/div/div/div[2]/section[3]/div/form/div/div[2]').click()\n",
    "    except Exception as e:\n",
    "        return False\n",
    "def next_before():\n",
    "    driver.find_element('xpath', '/html/body/div[7]/div[1]/div/div[3]/div/div/div/div/div[1]/div/div/div[2]/button').click()\n",
    "def next_after():\n",
    "    driver.find_element('xpath', '/html/body/div[6]/div[1]/div/div[3]/div/div/div/div/div[1]/div/div/div[2]/button').click()\n",
    "def like_good(start, count):\n",
    "    text = '섹스'\n",
    "    time.sleep(3)\n",
    "    select_post(start)\n",
    "    for n in range(start, start+count):\n",
    "        time.sleep(3)\n",
    "        if n == start:\n",
    "            like_before()\n",
    "            fail = comment_before(text)\n",
    "            if fail:\n",
    "                next_before()\n",
    "            else:\n",
    "                comment_submit_before()\n",
    "                next_before()\n",
    "        else:\n",
    "            like_after()\n",
    "            fail = comment_after(text)\n",
    "            if fail:\n",
    "                next_after()\n",
    "            else:\n",
    "                comment_submit_after()\n",
    "                next_after()\n",
    "login()\n",
    "time.sleep(3)\n",
    "search_tag('맛집')\n",
    "time.sleep(3)\n",
    "like_good(14, 5)"
   ]
  },
  {
   "cell_type": "code",
   "execution_count": null,
   "id": "12011e84-b2e1-4f76-8696-aaaf27ea7947",
   "metadata": {},
   "outputs": [],
   "source": []
  }
 ],
 "metadata": {
  "kernelspec": {
   "display_name": "Python 3 (ipykernel)",
   "language": "python",
   "name": "python3"
  },
  "language_info": {
   "codemirror_mode": {
    "name": "ipython",
    "version": 3
   },
   "file_extension": ".py",
   "mimetype": "text/x-python",
   "name": "python",
   "nbconvert_exporter": "python",
   "pygments_lexer": "ipython3",
   "version": "3.11.5"
  }
 },
 "nbformat": 4,
 "nbformat_minor": 5
}
