{
 "cells": [
  {
   "cell_type": "markdown",
   "id": "fe5f6ce0-2369-4f72-a959-1b8da34e933a",
   "metadata": {},
   "source": [
    "# 1. mysqlclient\n",
    "- 파이썬과 mysql 서버와 통신하게 할수있는 파이썬용 데이터베이스 커넥터 다양하게지원\n",
    "- PyMySQL, mysqlclient를 가장 많이사용\n",
    "- 사용법은 비슷하다 속도가 빠른 mysqlclinent 퀀장 \n"
   ]
  },
  {
   "cell_type": "code",
   "execution_count": 39,
   "id": "f062310f-93bf-4377-99b5-c84609cb5da6",
   "metadata": {},
   "outputs": [
    {
     "name": "stdout",
     "output_type": "stream",
     "text": [
      "Requirement already satisfied: mysqlclient in c:\\users\\kdhto\\appdata\\local\\programs\\python\\python311\\lib\\site-packages (2.2.0)\n"
     ]
    }
   ],
   "source": [
    "!pip install mysqlclient "
   ]
  },
  {
   "cell_type": "code",
   "execution_count": null,
   "id": "1a687882-c9b0-4b77-aa40-4b7c61f70890",
   "metadata": {},
   "outputs": [],
   "source": [
    "import MySQLdb"
   ]
  },
  {
   "cell_type": "code",
   "execution_count": null,
   "id": "c1d5959c-eb9e-4bbd-97aa-88d83f4d0017",
   "metadata": {},
   "outputs": [],
   "source": [
    "#  MySQL 접속\n",
    "# MySQLdb.connect(host = 'IP주소', user = '사용자', password = '비번' , db='db명' )"
   ]
  },
  {
   "cell_type": "code",
   "execution_count": 97,
   "id": "0c2e8b00-48e8-4482-b403-89176632496a",
   "metadata": {},
   "outputs": [
    {
     "data": {
      "text/plain": [
       "<_mysql.connection open to 'localhost' at 0000025233FBB1D0>"
      ]
     },
     "execution_count": 97,
     "metadata": {},
     "output_type": "execute_result"
    }
   ],
   "source": [
    "# db = MySQLdb.connect(host = 'localhost', user = 'root', password = '1234' , db='kdt' )\n",
    "db = MySQLdb.connect('localhost','root', '1234' ,'kdt' )\n",
    "db"
   ]
  },
  {
   "cell_type": "markdown",
   "id": "affd8b31-a21a-4874-a565-a4401d267c21",
   "metadata": {},
   "source": [
    "# 2. cursor 생성기\n",
    "- 하나의 DataBase Connection에 대해 독립적으로 SQL문을 싱핼할 수 있는 작업환경 제공하는 객체\n",
    "- 하나의 connection과 동시에 한 개의 cursor만 생성할 수 있으며, cursor를 통해 SQL문을 실행하면 실행결과를 튜플 단위로 반환"
   ]
  },
  {
   "cell_type": "code",
   "execution_count": null,
   "id": "8cdf5335-2208-4539-ae8b-91fad5ec7cc2",
   "metadata": {},
   "outputs": [],
   "source": [
    "cur = db.cursor()\n",
    "sql = 'select userid, name, hp, gender from member'\n",
    "cur.execute(sql)"
   ]
  },
  {
   "cell_type": "markdown",
   "id": "f2fd795f-70b7-45e4-a3aa-cd7cd9781faf",
   "metadata": {},
   "source": [
    "# 3. SQL문 결과 가져오기\n",
    "\n",
    "- fetchall() : 한번에 모든 tuple 가져옴. 검색 결과가 매우 많다면 메모리 오버헤드가 발생할수 있음\n",
    "- fetchone() : 한번에 하나의 tuple을 가져옴. 다시 메서드를 호출하면 다음 데이터 하나를 가져옴"
   ]
  },
  {
   "cell_type": "code",
   "execution_count": null,
   "id": "7f3ab80f-0ad5-42aa-a14a-e73d3dd0763f",
   "metadata": {},
   "outputs": [],
   "source": [
    "data = cur.fetchall()\n",
    "print(data)"
   ]
  },
  {
   "cell_type": "code",
   "execution_count": null,
   "id": "87d637a8-63da-4dee-afc8-59acad3a177c",
   "metadata": {},
   "outputs": [],
   "source": [
    "cur.execute(sql)\n",
    "\n",
    "row = cur.fetchone()\n",
    "print(row)"
   ]
  },
  {
   "cell_type": "code",
   "execution_count": null,
   "id": "353adb23-9a1b-46ab-9267-c857f3b9452e",
   "metadata": {},
   "outputs": [],
   "source": [
    "cur.execute(sql)\n",
    "\n",
    "# fetchone()를 이용하여 모든 데이터를 출력\n",
    "\n",
    "# 내 코드\n",
    "\n",
    "all = cur.fetchone()\n",
    "\n",
    "for all in data:\n",
    "    print(all)    "
   ]
  },
  {
   "cell_type": "code",
   "execution_count": null,
   "id": "3e1c9205-1875-4673-b62e-671307292ba8",
   "metadata": {},
   "outputs": [],
   "source": [
    "# 교수님 코드\n",
    "while True:\n",
    "    row = cur.fetchone()\n",
    "    if row:\n",
    "        print(row)\n",
    "    else:\n",
    "        break"
   ]
  },
  {
   "cell_type": "code",
   "execution_count": 94,
   "id": "6d15fafd-aa39-4e98-b19c-27cd63ef0d81",
   "metadata": {},
   "outputs": [
    {
     "name": "stdout",
     "output_type": "stream",
     "text": [
      "아이디:  apple , 이름:  김사과 , 전화번호:  010-1234-1331 , 성별:  남자\n",
      "아이디:  avocado , 이름:  아보카도 , 전화번호:  010-7264-1231 , 성별:  남자\n",
      "아이디:  banana , 이름:  바나나 , 전화번호:  010-1512-1331 , 성별:  여자\n",
      "아이디:  melon , 이름:  메론 , 전화번호:  010-1134-1335 , 성별:  남자\n",
      "아이디:  orange , 이름:  오렌지 , 전화번호:  010-1234-5329 , 성별:  여자\n"
     ]
    }
   ],
   "source": [
    "# dict 형태로 결과를 반환하고 싶다면 MySQLdb.cursors.DictCursor으로 설정\n",
    "cur = db.cursor(MySQLdb.cursors.DictCursor)\n",
    "sql = 'select userid, name, hp, gender from member'\n",
    "cur.execute(sql)\n",
    "results = cur.fetchall()\n",
    "# print(results)\n",
    "for row in results:\n",
    "    print('아이디: ', row['userid'], ', 이름: ', row['name'], ', 전화번호: ', row['hp'], ', 성별: ', row['gender'])"
   ]
  },
  {
   "cell_type": "code",
   "execution_count": 95,
   "id": "6cc26393-6d77-4943-8209-44e0db106c6e",
   "metadata": {},
   "outputs": [
    {
     "name": "stdout",
     "output_type": "stream",
     "text": [
      "아이디:  avocado , 이름:  아보카도 , 전화번호:  010-7264-1231 , 성별:  남자\n",
      "아이디:  banana , 이름:  바나나 , 전화번호:  010-1512-1331 , 성별:  여자\n",
      "아이디:  melon , 이름:  메론 , 전화번호:  010-1134-1335 , 성별:  남자\n",
      "아이디:  orange , 이름:  오렌지 , 전화번호:  010-1234-5329 , 성별:  여자\n"
     ]
    }
   ],
   "source": [
    "cur.execute(sql)\n",
    "\n",
    "res = cur.fetchone()\n",
    "\n",
    "while True:\n",
    "    row = cur.fetchone()\n",
    "    if row:\n",
    "         print('아이디: ', row['userid'], ', 이름: ', row['name'], ', 전화번호: ', row['hp'], ', 성별: ', row['gender'])\n",
    "    else:\n",
    "        break"
   ]
  },
  {
   "cell_type": "markdown",
   "id": "416c86e6-2489-4d14-8e36-5ecf41aa87d1",
   "metadata": {},
   "source": [
    "# 4. Cursor 와 Connection 닫아주기"
   ]
  },
  {
   "cell_type": "code",
   "execution_count": 96,
   "id": "5567d4f4-a5fd-4214-9a6f-9ef977788d96",
   "metadata": {},
   "outputs": [],
   "source": [
    "cur.close() # 커서 닫기\n",
    "db.close() # 커넥션 닫기"
   ]
  },
  {
   "cell_type": "markdown",
   "id": "0dd82bea-1386-45e7-9abe-444f0f8f941d",
   "metadata": {},
   "source": [
    "# 5. 데이터 삽입하기"
   ]
  },
  {
   "cell_type": "code",
   "execution_count": 109,
   "id": "f48e7e53-484e-4874-ab14-60339cc31ed4",
   "metadata": {},
   "outputs": [],
   "source": [
    "sql = 'insert into member (userid, userpw, name, hp, email, gender, ssn1, ssn2) values (%s, %s, %s,%s,%s,%s,%s,%s)'\n",
    "\n",
    "data = ('mango','0000','마안고','010-0000-0000','mango@mango.com','남자','001111','3111111')"
   ]
  },
  {
   "cell_type": "code",
   "execution_count": 110,
   "id": "736e4e56-9705-4a44-9615-0e8bf714fda3",
   "metadata": {},
   "outputs": [],
   "source": [
    "db = MySQLdb.connect('localhost','root','1234','kdt')\n",
    "cur = db.cursor()\n",
    "cur.execute(sql,data)\n",
    "db.commit()"
   ]
  },
  {
   "cell_type": "code",
   "execution_count": 111,
   "id": "ec430692-e527-4dd9-b7c8-5cf237fdd1a8",
   "metadata": {},
   "outputs": [],
   "source": [
    "sql = 'insert into member (userid, userpw, name, hp, email, gender, ssn1, ssn2) values (%s, %s, %s,%s,%s,%s,%s,%s)'\n",
    "\n",
    "data = [('cherry','9999','채리','010-0120-1200','cherry@cherry.com','여자','001111','4111111'), ('grapes','8888','표도르','010-8888-8800','grapes@grapes.com','남자','001111','3111111') ]\n",
    "cur.executemany(sql,data)\n",
    "db.commit()"
   ]
  },
  {
   "cell_type": "markdown",
   "id": "c2cda2bc-5a02-4f61-a486-2e5c0d5c3fb3",
   "metadata": {},
   "source": [
    "### 문제\n",
    "- 회원가입 프로그램을 만들어보자"
   ]
  },
  {
   "cell_type": "code",
   "execution_count": null,
   "id": "d0c63fe0-b1bf-4ce1-a28a-d5c2e9a1bd23",
   "metadata": {},
   "outputs": [],
   "source": [
    "# 아이디를 입력하세요 : peach\n",
    "# 비밀번호를 입력하세요 : 7777\n",
    "# 이름을 입력하세요 : 피치\n",
    "\n",
    "# 가입되었습니다. \n",
    "# 틀릴시 '다시 입력하세요' 하면서 처음으로 돌아감"
   ]
  },
  {
   "cell_type": "code",
   "execution_count": 116,
   "id": "786d6f50-95a9-4ecc-993d-d53886a5d8e8",
   "metadata": {},
   "outputs": [
    {
     "name": "stdin",
     "output_type": "stream",
     "text": [
      "아이디를 입력하세요 :  peach\n",
      "비밀번호를 입력하세요 :  7777\n",
      "이름을 입력하세요 :  피치\n"
     ]
    },
    {
     "ename": "IntegrityError",
     "evalue": "(1364, \"Field 'hp' doesn't have a default value\")",
     "output_type": "error",
     "traceback": [
      "\u001b[1;31m---------------------------------------------------------------------------\u001b[0m",
      "\u001b[1;31mIntegrityError\u001b[0m                            Traceback (most recent call last)",
      "Cell \u001b[1;32mIn[116], line 11\u001b[0m\n\u001b[0;32m      7\u001b[0m setName \u001b[38;5;241m=\u001b[39m \u001b[38;5;28minput\u001b[39m(\u001b[38;5;124m'\u001b[39m\u001b[38;5;124m이름을 입력하세요 : \u001b[39m\u001b[38;5;124m'\u001b[39m)\n\u001b[0;32m      9\u001b[0m data \u001b[38;5;241m=\u001b[39m (\u001b[38;5;124mf\u001b[39m\u001b[38;5;124m'\u001b[39m\u001b[38;5;132;01m{\u001b[39;00msetID\u001b[38;5;132;01m}\u001b[39;00m\u001b[38;5;124m'\u001b[39m,{setPW},{setName})\n\u001b[1;32m---> 11\u001b[0m \u001b[43mcur\u001b[49m\u001b[38;5;241;43m.\u001b[39;49m\u001b[43mexecute\u001b[49m\u001b[43m(\u001b[49m\u001b[43msql\u001b[49m\u001b[43m,\u001b[49m\u001b[43mdata\u001b[49m\u001b[43m)\u001b[49m\n\u001b[0;32m     12\u001b[0m db\u001b[38;5;241m.\u001b[39mcommit()\n",
      "File \u001b[1;32m~\\AppData\\Local\\Programs\\Python\\Python311\\Lib\\site-packages\\MySQLdb\\cursors.py:179\u001b[0m, in \u001b[0;36mBaseCursor.execute\u001b[1;34m(self, query, args)\u001b[0m\n\u001b[0;32m    176\u001b[0m mogrified_query \u001b[38;5;241m=\u001b[39m \u001b[38;5;28mself\u001b[39m\u001b[38;5;241m.\u001b[39m_mogrify(query, args)\n\u001b[0;32m    178\u001b[0m \u001b[38;5;28;01massert\u001b[39;00m \u001b[38;5;28misinstance\u001b[39m(mogrified_query, (\u001b[38;5;28mbytes\u001b[39m, \u001b[38;5;28mbytearray\u001b[39m))\n\u001b[1;32m--> 179\u001b[0m res \u001b[38;5;241m=\u001b[39m \u001b[38;5;28;43mself\u001b[39;49m\u001b[38;5;241;43m.\u001b[39;49m\u001b[43m_query\u001b[49m\u001b[43m(\u001b[49m\u001b[43mmogrified_query\u001b[49m\u001b[43m)\u001b[49m\n\u001b[0;32m    180\u001b[0m \u001b[38;5;28;01mreturn\u001b[39;00m res\n",
      "File \u001b[1;32m~\\AppData\\Local\\Programs\\Python\\Python311\\Lib\\site-packages\\MySQLdb\\cursors.py:330\u001b[0m, in \u001b[0;36mBaseCursor._query\u001b[1;34m(self, q)\u001b[0m\n\u001b[0;32m    328\u001b[0m \u001b[38;5;28mself\u001b[39m\u001b[38;5;241m.\u001b[39mrowcount \u001b[38;5;241m=\u001b[39m \u001b[38;5;28;01mNone\u001b[39;00m\n\u001b[0;32m    329\u001b[0m \u001b[38;5;28mself\u001b[39m\u001b[38;5;241m.\u001b[39mlastrowid \u001b[38;5;241m=\u001b[39m \u001b[38;5;28;01mNone\u001b[39;00m\n\u001b[1;32m--> 330\u001b[0m \u001b[43mdb\u001b[49m\u001b[38;5;241;43m.\u001b[39;49m\u001b[43mquery\u001b[49m\u001b[43m(\u001b[49m\u001b[43mq\u001b[49m\u001b[43m)\u001b[49m\n\u001b[0;32m    331\u001b[0m \u001b[38;5;28mself\u001b[39m\u001b[38;5;241m.\u001b[39m_do_get_result(db)\n\u001b[0;32m    332\u001b[0m \u001b[38;5;28mself\u001b[39m\u001b[38;5;241m.\u001b[39m_post_get_result()\n",
      "File \u001b[1;32m~\\AppData\\Local\\Programs\\Python\\Python311\\Lib\\site-packages\\MySQLdb\\connections.py:255\u001b[0m, in \u001b[0;36mConnection.query\u001b[1;34m(self, query)\u001b[0m\n\u001b[0;32m    253\u001b[0m \u001b[38;5;28;01mif\u001b[39;00m \u001b[38;5;28misinstance\u001b[39m(query, \u001b[38;5;28mbytearray\u001b[39m):\n\u001b[0;32m    254\u001b[0m     query \u001b[38;5;241m=\u001b[39m \u001b[38;5;28mbytes\u001b[39m(query)\n\u001b[1;32m--> 255\u001b[0m \u001b[43m_mysql\u001b[49m\u001b[38;5;241;43m.\u001b[39;49m\u001b[43mconnection\u001b[49m\u001b[38;5;241;43m.\u001b[39;49m\u001b[43mquery\u001b[49m\u001b[43m(\u001b[49m\u001b[38;5;28;43mself\u001b[39;49m\u001b[43m,\u001b[49m\u001b[43m \u001b[49m\u001b[43mquery\u001b[49m\u001b[43m)\u001b[49m\n",
      "\u001b[1;31mIntegrityError\u001b[0m: (1364, \"Field 'hp' doesn't have a default value\")"
     ]
    }
   ],
   "source": [
    "user = []\n",
    "sql = 'insert into member (userid, userpw, name) values (%s, %s, %s)'\n",
    "\n",
    "while True:\n",
    "    setID = input('아이디를 입력하세요 : ')\n",
    "    setPW = input('비밀번호를 입력하세요 : ')\n",
    "    setName = input('이름을 입력하세요 : ')\n",
    "    \n",
    "    data = (f'{setID}',{setPW},{setName})\n",
    "    \n",
    "    cur.execute(sql,data)\n",
    "    db.commit()"
   ]
  },
  {
   "cell_type": "code",
   "execution_count": 21,
   "id": "bf9c693f-8dba-4523-8a21-4930f28dfa0a",
   "metadata": {},
   "outputs": [],
   "source": [
    "import MySQLdb"
   ]
  },
  {
   "cell_type": "code",
   "execution_count": 20,
   "id": "ef0caf30-65c5-4717-81d8-773be8dcea5f",
   "metadata": {},
   "outputs": [
    {
     "ename": "KeyboardInterrupt",
     "evalue": "Interrupted by user",
     "output_type": "error",
     "traceback": [
      "\u001b[1;31m---------------------------------------------------------------------------\u001b[0m",
      "\u001b[1;31mKeyboardInterrupt\u001b[0m                         Traceback (most recent call last)",
      "Cell \u001b[1;32mIn[20], line 5\u001b[0m\n\u001b[0;32m      3\u001b[0m \u001b[38;5;28;01mwhile\u001b[39;00m \u001b[38;5;28;01mTrue\u001b[39;00m:\n\u001b[0;32m      4\u001b[0m     \u001b[38;5;28;01mtry\u001b[39;00m:\n\u001b[1;32m----> 5\u001b[0m         userid \u001b[38;5;241m=\u001b[39m \u001b[38;5;28;43minput\u001b[39;49m\u001b[43m(\u001b[49m\u001b[38;5;124;43m'\u001b[39;49m\u001b[38;5;124;43m아이디를 입력하세요: \u001b[39;49m\u001b[38;5;124;43m'\u001b[39;49m\u001b[43m)\u001b[49m\n\u001b[0;32m      6\u001b[0m         userpw \u001b[38;5;241m=\u001b[39m \u001b[38;5;28minput\u001b[39m(\u001b[38;5;124m'\u001b[39m\u001b[38;5;124m비밀번호를 입력하세요: \u001b[39m\u001b[38;5;124m'\u001b[39m)\n\u001b[0;32m      7\u001b[0m         name \u001b[38;5;241m=\u001b[39m \u001b[38;5;28minput\u001b[39m(\u001b[38;5;124m'\u001b[39m\u001b[38;5;124m이름을 입력하세요: \u001b[39m\u001b[38;5;124m'\u001b[39m)\n",
      "File \u001b[1;32m~\\AppData\\Local\\Programs\\Python\\Python311\\Lib\\site-packages\\ipykernel\\kernelbase.py:1202\u001b[0m, in \u001b[0;36mKernel.raw_input\u001b[1;34m(self, prompt)\u001b[0m\n\u001b[0;32m   1200\u001b[0m     msg \u001b[38;5;241m=\u001b[39m \u001b[38;5;124m\"\u001b[39m\u001b[38;5;124mraw_input was called, but this frontend does not support input requests.\u001b[39m\u001b[38;5;124m\"\u001b[39m\n\u001b[0;32m   1201\u001b[0m     \u001b[38;5;28;01mraise\u001b[39;00m StdinNotImplementedError(msg)\n\u001b[1;32m-> 1202\u001b[0m \u001b[38;5;28;01mreturn\u001b[39;00m \u001b[38;5;28;43mself\u001b[39;49m\u001b[38;5;241;43m.\u001b[39;49m\u001b[43m_input_request\u001b[49m\u001b[43m(\u001b[49m\n\u001b[0;32m   1203\u001b[0m \u001b[43m    \u001b[49m\u001b[38;5;28;43mstr\u001b[39;49m\u001b[43m(\u001b[49m\u001b[43mprompt\u001b[49m\u001b[43m)\u001b[49m\u001b[43m,\u001b[49m\n\u001b[0;32m   1204\u001b[0m \u001b[43m    \u001b[49m\u001b[38;5;28;43mself\u001b[39;49m\u001b[38;5;241;43m.\u001b[39;49m\u001b[43m_parent_ident\u001b[49m\u001b[43m[\u001b[49m\u001b[38;5;124;43m\"\u001b[39;49m\u001b[38;5;124;43mshell\u001b[39;49m\u001b[38;5;124;43m\"\u001b[39;49m\u001b[43m]\u001b[49m\u001b[43m,\u001b[49m\n\u001b[0;32m   1205\u001b[0m \u001b[43m    \u001b[49m\u001b[38;5;28;43mself\u001b[39;49m\u001b[38;5;241;43m.\u001b[39;49m\u001b[43mget_parent\u001b[49m\u001b[43m(\u001b[49m\u001b[38;5;124;43m\"\u001b[39;49m\u001b[38;5;124;43mshell\u001b[39;49m\u001b[38;5;124;43m\"\u001b[39;49m\u001b[43m)\u001b[49m\u001b[43m,\u001b[49m\n\u001b[0;32m   1206\u001b[0m \u001b[43m    \u001b[49m\u001b[43mpassword\u001b[49m\u001b[38;5;241;43m=\u001b[39;49m\u001b[38;5;28;43;01mFalse\u001b[39;49;00m\u001b[43m,\u001b[49m\n\u001b[0;32m   1207\u001b[0m \u001b[43m\u001b[49m\u001b[43m)\u001b[49m\n",
      "File \u001b[1;32m~\\AppData\\Local\\Programs\\Python\\Python311\\Lib\\site-packages\\ipykernel\\kernelbase.py:1245\u001b[0m, in \u001b[0;36mKernel._input_request\u001b[1;34m(self, prompt, ident, parent, password)\u001b[0m\n\u001b[0;32m   1242\u001b[0m \u001b[38;5;28;01mexcept\u001b[39;00m \u001b[38;5;167;01mKeyboardInterrupt\u001b[39;00m:\n\u001b[0;32m   1243\u001b[0m     \u001b[38;5;66;03m# re-raise KeyboardInterrupt, to truncate traceback\u001b[39;00m\n\u001b[0;32m   1244\u001b[0m     msg \u001b[38;5;241m=\u001b[39m \u001b[38;5;124m\"\u001b[39m\u001b[38;5;124mInterrupted by user\u001b[39m\u001b[38;5;124m\"\u001b[39m\n\u001b[1;32m-> 1245\u001b[0m     \u001b[38;5;28;01mraise\u001b[39;00m \u001b[38;5;167;01mKeyboardInterrupt\u001b[39;00m(msg) \u001b[38;5;28;01mfrom\u001b[39;00m \u001b[38;5;28;01mNone\u001b[39;00m\n\u001b[0;32m   1246\u001b[0m \u001b[38;5;28;01mexcept\u001b[39;00m \u001b[38;5;167;01mException\u001b[39;00m:\n\u001b[0;32m   1247\u001b[0m     \u001b[38;5;28mself\u001b[39m\u001b[38;5;241m.\u001b[39mlog\u001b[38;5;241m.\u001b[39mwarning(\u001b[38;5;124m\"\u001b[39m\u001b[38;5;124mInvalid Message:\u001b[39m\u001b[38;5;124m\"\u001b[39m, exc_info\u001b[38;5;241m=\u001b[39m\u001b[38;5;28;01mTrue\u001b[39;00m)\n",
      "\u001b[1;31mKeyboardInterrupt\u001b[0m: Interrupted by user"
     ]
    }
   ],
   "source": [
    "db = MySQLdb.connect('localhost','root','1234','kdt')\n",
    "cur = db.cursor()\n",
    "while True:\n",
    "    try:\n",
    "        userid = input('아이디를 입력하세요: ')\n",
    "        userpw = input('비밀번호를 입력하세요: ')\n",
    "        name = input('이름을 입력하세요: ')\n",
    "        hp = input('전화번호를 입력하세요: ')\n",
    "        email = input('이메일을 입력하세요: ')\n",
    "        gender = input('성별을 입력하세요: ')\n",
    "        ssn1 = input('주민번호 앞자리를 입력하세요: ')\n",
    "        ssn2 = input('주민번호 뒷자리를 입력하세요: ')\n",
    "        zipcode = input('우편번호를 입력하세요: ')\n",
    "        address1 = input('주소를 입력하세요: ')\n",
    "        address2 = input('상세주소를 입력하세요: ')\n",
    "        address3 = input('참고사항을 입력하세요: ')\n",
    "        sql = 'insert into member(userid, userpw, name, hp, email, gender, ssn1, ssn2, zipcode, address1, address2, address3) values (%s, %s, %s, %s, %s, %s, %s, %s, %s, %s, %s, %s)'\n",
    "        data = (userid, userpw, name, hp, email, gender, ssn1, ssn2, zipcode, address1, address2, address3)\n",
    "        cur.execute(sql, data)\n",
    "        db.commit()\n",
    "        print('가입되었습니다')\n",
    "        yn = input('추가로 가입하시겠습니까?(Y/N): ')\n",
    "        if yn.lower() == 'n':\n",
    "            print('프로그램을 종료합니다')\n",
    "            break\n",
    "    except Exception as e:\n",
    "        print('다시 입력하세요')\n",
    "cur.close()\n",
    "db.close()"
   ]
  },
  {
   "cell_type": "markdown",
   "id": "08ebe024-7236-4fb1-bfc1-4580da867f36",
   "metadata": {},
   "source": [
    "# 6. 데이터 수정하기"
   ]
  },
  {
   "cell_type": "code",
   "execution_count": 22,
   "id": "f092cc45-4fdc-4410-b34e-fb72f7b4b41a",
   "metadata": {},
   "outputs": [
    {
     "name": "stdout",
     "output_type": "stream",
     "text": [
      "에러!\n"
     ]
    }
   ],
   "source": [
    "sql = \"update member set zipcode=%s, address1=%s, address2=%s, address3=%s where userid=%s\"\n",
    "data = ('00000', '서울', '서초구', '양재동', 'kiwi')\n",
    "result = cur.execute(sql, data)\n",
    "db.commit()\n",
    "if result > 0:\n",
    "    print('수정되었습니다')\n",
    "else:\n",
    "    print('에러!')"
   ]
  },
  {
   "cell_type": "markdown",
   "id": "9069e813-8d6b-4ba0-9ed3-033f8eb5f456",
   "metadata": {},
   "source": [
    "# 7. 데이터 삭제하기"
   ]
  },
  {
   "cell_type": "code",
   "execution_count": 27,
   "id": "b165ec28-614d-4e0a-82a2-de294fbb0aff",
   "metadata": {},
   "outputs": [],
   "source": [
    "sql = 'delete from member where userid =%s'\n",
    "result = cur.execute(sql, ('kiwi',))\n",
    "db.commit()\n",
    "\n",
    "if result > 0:\n",
    "    print('탈퇴')\n",
    "                     "
   ]
  },
  {
   "cell_type": "markdown",
   "id": "5f1637b6-2fea-4fc6-a81c-9bce3a36ed02",
   "metadata": {},
   "source": [
    "### 문제\n",
    "- 로그인 프로그램을 작성해보자\n",
    "\n",
    "-------- 출력 ----------------\n",
    "아이디 : apple\n",
    "비밀번호 : 1111\n",
    "로그인되었습니다. / 아이디 또는 비밀번호 확인"
   ]
  },
  {
   "cell_type": "code",
   "execution_count": 54,
   "id": "b04b7773-4808-4229-a44a-0d7f70b2ee07",
   "metadata": {},
   "outputs": [],
   "source": [
    "import MySQLdb"
   ]
  },
  {
   "cell_type": "code",
   "execution_count": 55,
   "id": "32eddd13-694c-42b3-8773-62be0f13c057",
   "metadata": {},
   "outputs": [
    {
     "name": "stdin",
     "output_type": "stream",
     "text": [
      "아이디를 입력하세요:  apple\n",
      "비밀번호를 입력하세요:  1234\n"
     ]
    },
    {
     "name": "stdout",
     "output_type": "stream",
     "text": [
      "아이디 또는 비밀번호를 확인해주세요.\n"
     ]
    },
    {
     "ename": "KeyboardInterrupt",
     "evalue": "Interrupted by user",
     "output_type": "error",
     "traceback": [
      "\u001b[1;31m---------------------------------------------------------------------------\u001b[0m",
      "\u001b[1;31mKeyboardInterrupt\u001b[0m                         Traceback (most recent call last)",
      "Cell \u001b[1;32mIn[55], line 15\u001b[0m\n\u001b[0;32m     13\u001b[0m \u001b[38;5;28;01mexcept\u001b[39;00m \u001b[38;5;167;01mException\u001b[39;00m \u001b[38;5;28;01mas\u001b[39;00m e:\n\u001b[0;32m     14\u001b[0m     \u001b[38;5;28mprint\u001b[39m(\u001b[38;5;124m'\u001b[39m\u001b[38;5;124m아이디 또는 비밀번호를 확인해주세요.\u001b[39m\u001b[38;5;124m'\u001b[39m)\n\u001b[1;32m---> 15\u001b[0m yn \u001b[38;5;241m=\u001b[39m \u001b[38;5;28;43minput\u001b[39;49m\u001b[43m(\u001b[49m\u001b[38;5;124;43m'\u001b[39;49m\u001b[38;5;124;43m종료하시겠습니까: \u001b[39;49m\u001b[38;5;124;43m'\u001b[39;49m\u001b[43m)\u001b[49m\n\u001b[0;32m     16\u001b[0m \u001b[38;5;28;01mif\u001b[39;00m yn\u001b[38;5;241m.\u001b[39mlower() \u001b[38;5;241m==\u001b[39m \u001b[38;5;124m'\u001b[39m\u001b[38;5;124mn\u001b[39m\u001b[38;5;124m'\u001b[39m:\n\u001b[0;32m     17\u001b[0m         \u001b[38;5;28mprint\u001b[39m(\u001b[38;5;124m'\u001b[39m\u001b[38;5;124m프로그램을 종료합니다\u001b[39m\u001b[38;5;124m'\u001b[39m)\n",
      "File \u001b[1;32m~\\AppData\\Local\\Programs\\Python\\Python311\\Lib\\site-packages\\ipykernel\\kernelbase.py:1202\u001b[0m, in \u001b[0;36mKernel.raw_input\u001b[1;34m(self, prompt)\u001b[0m\n\u001b[0;32m   1200\u001b[0m     msg \u001b[38;5;241m=\u001b[39m \u001b[38;5;124m\"\u001b[39m\u001b[38;5;124mraw_input was called, but this frontend does not support input requests.\u001b[39m\u001b[38;5;124m\"\u001b[39m\n\u001b[0;32m   1201\u001b[0m     \u001b[38;5;28;01mraise\u001b[39;00m StdinNotImplementedError(msg)\n\u001b[1;32m-> 1202\u001b[0m \u001b[38;5;28;01mreturn\u001b[39;00m \u001b[38;5;28;43mself\u001b[39;49m\u001b[38;5;241;43m.\u001b[39;49m\u001b[43m_input_request\u001b[49m\u001b[43m(\u001b[49m\n\u001b[0;32m   1203\u001b[0m \u001b[43m    \u001b[49m\u001b[38;5;28;43mstr\u001b[39;49m\u001b[43m(\u001b[49m\u001b[43mprompt\u001b[49m\u001b[43m)\u001b[49m\u001b[43m,\u001b[49m\n\u001b[0;32m   1204\u001b[0m \u001b[43m    \u001b[49m\u001b[38;5;28;43mself\u001b[39;49m\u001b[38;5;241;43m.\u001b[39;49m\u001b[43m_parent_ident\u001b[49m\u001b[43m[\u001b[49m\u001b[38;5;124;43m\"\u001b[39;49m\u001b[38;5;124;43mshell\u001b[39;49m\u001b[38;5;124;43m\"\u001b[39;49m\u001b[43m]\u001b[49m\u001b[43m,\u001b[49m\n\u001b[0;32m   1205\u001b[0m \u001b[43m    \u001b[49m\u001b[38;5;28;43mself\u001b[39;49m\u001b[38;5;241;43m.\u001b[39;49m\u001b[43mget_parent\u001b[49m\u001b[43m(\u001b[49m\u001b[38;5;124;43m\"\u001b[39;49m\u001b[38;5;124;43mshell\u001b[39;49m\u001b[38;5;124;43m\"\u001b[39;49m\u001b[43m)\u001b[49m\u001b[43m,\u001b[49m\n\u001b[0;32m   1206\u001b[0m \u001b[43m    \u001b[49m\u001b[43mpassword\u001b[49m\u001b[38;5;241;43m=\u001b[39;49m\u001b[38;5;28;43;01mFalse\u001b[39;49;00m\u001b[43m,\u001b[49m\n\u001b[0;32m   1207\u001b[0m \u001b[43m\u001b[49m\u001b[43m)\u001b[49m\n",
      "File \u001b[1;32m~\\AppData\\Local\\Programs\\Python\\Python311\\Lib\\site-packages\\ipykernel\\kernelbase.py:1245\u001b[0m, in \u001b[0;36mKernel._input_request\u001b[1;34m(self, prompt, ident, parent, password)\u001b[0m\n\u001b[0;32m   1242\u001b[0m \u001b[38;5;28;01mexcept\u001b[39;00m \u001b[38;5;167;01mKeyboardInterrupt\u001b[39;00m:\n\u001b[0;32m   1243\u001b[0m     \u001b[38;5;66;03m# re-raise KeyboardInterrupt, to truncate traceback\u001b[39;00m\n\u001b[0;32m   1244\u001b[0m     msg \u001b[38;5;241m=\u001b[39m \u001b[38;5;124m\"\u001b[39m\u001b[38;5;124mInterrupted by user\u001b[39m\u001b[38;5;124m\"\u001b[39m\n\u001b[1;32m-> 1245\u001b[0m     \u001b[38;5;28;01mraise\u001b[39;00m \u001b[38;5;167;01mKeyboardInterrupt\u001b[39;00m(msg) \u001b[38;5;28;01mfrom\u001b[39;00m \u001b[38;5;28;01mNone\u001b[39;00m\n\u001b[0;32m   1246\u001b[0m \u001b[38;5;28;01mexcept\u001b[39;00m \u001b[38;5;167;01mException\u001b[39;00m:\n\u001b[0;32m   1247\u001b[0m     \u001b[38;5;28mself\u001b[39m\u001b[38;5;241m.\u001b[39mlog\u001b[38;5;241m.\u001b[39mwarning(\u001b[38;5;124m\"\u001b[39m\u001b[38;5;124mInvalid Message:\u001b[39m\u001b[38;5;124m\"\u001b[39m, exc_info\u001b[38;5;241m=\u001b[39m\u001b[38;5;28;01mTrue\u001b[39;00m)\n",
      "\u001b[1;31mKeyboardInterrupt\u001b[0m: Interrupted by user"
     ]
    }
   ],
   "source": [
    "db = MySQLdb.connect('localhost','root','1234','kdt')\n",
    "cur = db.cursor()\n",
    "\n",
    "while True:\n",
    "    try:\n",
    "        userid = input('아이디를 입력하세요: ')\n",
    "        userpw = input('비밀번호를 입력하세요: ')\n",
    "        sql = \"select userid from member\"\n",
    "        data = (userid, userpw)\n",
    "        cur.execute(sql, data)\n",
    "        db.commit()\n",
    "        \n",
    "    except Exception as e:\n",
    "        print('아이디 또는 비밀번호를 확인해주세요.')\n",
    "    yn = input('종료하시겠습니까: ')\n",
    "    if yn.lower() == 'n':\n",
    "            print('프로그램을 종료합니다')\n",
    "            break \n",
    "cur.close()\n",
    "db.close()"
   ]
  },
  {
   "cell_type": "code",
   "execution_count": 56,
   "id": "2a5acd8e-ffda-41f8-aa62-df3b745712ac",
   "metadata": {},
   "outputs": [],
   "source": [
    "# 교수님 코드\n",
    "import MySQLdb"
   ]
  },
  {
   "cell_type": "code",
   "execution_count": 58,
   "id": "55990ed1-385c-42b6-ae1e-fc27f3bfb47e",
   "metadata": {},
   "outputs": [
    {
     "name": "stdin",
     "output_type": "stream",
     "text": [
      "아이디를 입력하세요:  apple\n",
      "비밀번호를 입력하세요:  1234\n"
     ]
    },
    {
     "name": "stdout",
     "output_type": "stream",
     "text": [
      "로그인 성공\n"
     ]
    }
   ],
   "source": [
    "db = MySQLdb.connect('localhost','root','1234','kdt')\n",
    "cur = db.cursor()\n",
    "\n",
    "userid = input('아이디를 입력하세요: ')\n",
    "userpw = input('비밀번호를 입력하세요: ')\n",
    "\n",
    "sql = 'select userid from member where userid=%s and userpw=%s'\n",
    "data = (userid,userpw)\n",
    "result = cur.execute(sql,data)\n",
    "\n",
    "if result >0:\n",
    "    print('로그인 성공')\n",
    "else:\n",
    "    print('아이디 또는 비밀번호 확인해주세요')\n",
    "cur.close()\n",
    "db.close()"
   ]
  },
  {
   "cell_type": "code",
   "execution_count": null,
   "id": "aa4169bf-2a24-49fd-9fe1-b6bf12bccd43",
   "metadata": {},
   "outputs": [],
   "source": []
  }
 ],
 "metadata": {
  "kernelspec": {
   "display_name": "Python 3 (ipykernel)",
   "language": "python",
   "name": "python3"
  },
  "language_info": {
   "codemirror_mode": {
    "name": "ipython",
    "version": 3
   },
   "file_extension": ".py",
   "mimetype": "text/x-python",
   "name": "python",
   "nbconvert_exporter": "python",
   "pygments_lexer": "ipython3",
   "version": "3.11.5"
  }
 },
 "nbformat": 4,
 "nbformat_minor": 5
}
