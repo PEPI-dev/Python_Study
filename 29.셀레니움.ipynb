{
 "cells": [
  {
   "cell_type": "markdown",
   "id": "ccee9e03-a311-419d-a85a-6667462e4d4f",
   "metadata": {},
   "source": [
    "# 1. 셀레니움(Selenium)\n",
    "\n",
    "- 셀레니움은 브라우저를 컨트롤 할 수 있도록 지원하는 라이브러리"
   ]
  },
  {
   "cell_type": "code",
   "execution_count": 1,
   "id": "5b86a911-9dc2-4f66-a473-ac83d335ff52",
   "metadata": {},
   "outputs": [
    {
     "name": "stdout",
     "output_type": "stream",
     "text": [
      "Collecting selenium\n",
      "  Obtaining dependency information for selenium from https://files.pythonhosted.org/packages/0e/59/aae37fa93e2d4292c3148efcc3066c8ecfe5cfaa72bf8c0b1a5614622cf7/selenium-4.15.2-py3-none-any.whl.metadata\n",
      "  Downloading selenium-4.15.2-py3-none-any.whl.metadata (6.9 kB)\n",
      "Requirement already satisfied: urllib3[socks]<3,>=1.26 in c:\\users\\kdhto\\appdata\\local\\programs\\python\\python311\\lib\\site-packages (from selenium) (2.0.4)\n",
      "Collecting trio~=0.17 (from selenium)\n",
      "  Obtaining dependency information for trio~=0.17 from https://files.pythonhosted.org/packages/39/46/620fbe56f41fa3ccdda2136d947fb9bacce3d1eb163f057f0262a0ddf5e0/trio-0.23.1-py3-none-any.whl.metadata\n",
      "  Downloading trio-0.23.1-py3-none-any.whl.metadata (4.9 kB)\n",
      "Collecting trio-websocket~=0.9 (from selenium)\n",
      "  Obtaining dependency information for trio-websocket~=0.9 from https://files.pythonhosted.org/packages/48/be/a9ae5f50cad5b6f85bd2574c2c923730098530096e170c1ce7452394d7aa/trio_websocket-0.11.1-py3-none-any.whl.metadata\n",
      "  Downloading trio_websocket-0.11.1-py3-none-any.whl.metadata (4.7 kB)\n",
      "Requirement already satisfied: certifi>=2021.10.8 in c:\\users\\kdhto\\appdata\\local\\programs\\python\\python311\\lib\\site-packages (from selenium) (2023.7.22)\n",
      "Requirement already satisfied: attrs>=20.1.0 in c:\\users\\kdhto\\appdata\\local\\programs\\python\\python311\\lib\\site-packages (from trio~=0.17->selenium) (23.1.0)\n",
      "Collecting sortedcontainers (from trio~=0.17->selenium)\n",
      "  Downloading sortedcontainers-2.4.0-py2.py3-none-any.whl (29 kB)\n",
      "Requirement already satisfied: idna in c:\\users\\kdhto\\appdata\\local\\programs\\python\\python311\\lib\\site-packages (from trio~=0.17->selenium) (3.4)\n",
      "Collecting outcome (from trio~=0.17->selenium)\n",
      "  Obtaining dependency information for outcome from https://files.pythonhosted.org/packages/55/8b/5ab7257531a5d830fc8000c476e63c935488d74609b50f9384a643ec0a62/outcome-1.3.0.post0-py2.py3-none-any.whl.metadata\n",
      "  Downloading outcome-1.3.0.post0-py2.py3-none-any.whl.metadata (2.6 kB)\n",
      "Requirement already satisfied: sniffio>=1.3.0 in c:\\users\\kdhto\\appdata\\local\\programs\\python\\python311\\lib\\site-packages (from trio~=0.17->selenium) (1.3.0)\n",
      "Requirement already satisfied: cffi>=1.14 in c:\\users\\kdhto\\appdata\\local\\programs\\python\\python311\\lib\\site-packages (from trio~=0.17->selenium) (1.15.1)\n",
      "Collecting wsproto>=0.14 (from trio-websocket~=0.9->selenium)\n",
      "  Downloading wsproto-1.2.0-py3-none-any.whl (24 kB)\n",
      "Collecting pysocks!=1.5.7,<2.0,>=1.5.6 (from urllib3[socks]<3,>=1.26->selenium)\n",
      "  Downloading PySocks-1.7.1-py3-none-any.whl (16 kB)\n",
      "Requirement already satisfied: pycparser in c:\\users\\kdhto\\appdata\\local\\programs\\python\\python311\\lib\\site-packages (from cffi>=1.14->trio~=0.17->selenium) (2.21)\n",
      "Requirement already satisfied: h11<1,>=0.9.0 in c:\\users\\kdhto\\appdata\\local\\programs\\python\\python311\\lib\\site-packages (from wsproto>=0.14->trio-websocket~=0.9->selenium) (0.14.0)\n",
      "Downloading selenium-4.15.2-py3-none-any.whl (10.2 MB)\n",
      "   ---------------------------------------- 0.0/10.2 MB ? eta -:--:--\n",
      "   --- ------------------------------------ 0.8/10.2 MB 26.8 MB/s eta 0:00:01\n",
      "   ---------- ----------------------------- 2.7/10.2 MB 34.1 MB/s eta 0:00:01\n",
      "   -------------------- ------------------- 5.3/10.2 MB 42.6 MB/s eta 0:00:01\n",
      "   ----------------------------- ---------- 7.4/10.2 MB 43.2 MB/s eta 0:00:01\n",
      "   -------------------------------------- - 9.9/10.2 MB 45.2 MB/s eta 0:00:01\n",
      "   ---------------------------------------- 10.2/10.2 MB 40.7 MB/s eta 0:00:00\n",
      "Downloading trio-0.23.1-py3-none-any.whl (448 kB)\n",
      "   ---------------------------------------- 0.0/448.3 kB ? eta -:--:--\n",
      "   ---------------------------------------- 448.3/448.3 kB ? eta 0:00:00\n",
      "Downloading trio_websocket-0.11.1-py3-none-any.whl (17 kB)\n",
      "Downloading outcome-1.3.0.post0-py2.py3-none-any.whl (10 kB)\n",
      "Installing collected packages: sortedcontainers, wsproto, pysocks, outcome, trio, trio-websocket, selenium\n",
      "Successfully installed outcome-1.3.0.post0 pysocks-1.7.1 selenium-4.15.2 sortedcontainers-2.4.0 trio-0.23.1 trio-websocket-0.11.1 wsproto-1.2.0\n"
     ]
    },
    {
     "name": "stderr",
     "output_type": "stream",
     "text": [
      "\n",
      "[notice] A new release of pip is available: 23.2.1 -> 23.3.1\n",
      "[notice] To update, run: C:\\Users\\kdhto\\AppData\\Local\\Programs\\Python\\Python311\\python.exe -m pip install --upgrade pip\n"
     ]
    }
   ],
   "source": [
    "! pip install selenium"
   ]
  },
  {
   "cell_type": "code",
   "execution_count": 2,
   "id": "2b354d31-200f-472e-886c-1bcabcd2bc00",
   "metadata": {},
   "outputs": [
    {
     "name": "stdout",
     "output_type": "stream",
     "text": [
      "Collecting chromedriver_autoinstaller\n",
      "  Obtaining dependency information for chromedriver_autoinstaller from https://files.pythonhosted.org/packages/b7/17/824a202a4fdb6edda587f25878552beb0da6de70197d5f0b77b8d3781e91/chromedriver_autoinstaller-0.6.2-py3-none-any.whl.metadata\n",
      "  Downloading chromedriver_autoinstaller-0.6.2-py3-none-any.whl.metadata (1.9 kB)\n",
      "Downloading chromedriver_autoinstaller-0.6.2-py3-none-any.whl (7.4 kB)\n",
      "Installing collected packages: chromedriver_autoinstaller\n",
      "Successfully installed chromedriver_autoinstaller-0.6.2\n"
     ]
    },
    {
     "name": "stderr",
     "output_type": "stream",
     "text": [
      "\n",
      "[notice] A new release of pip is available: 23.2.1 -> 23.3.1\n",
      "[notice] To update, run: C:\\Users\\kdhto\\AppData\\Local\\Programs\\Python\\Python311\\python.exe -m pip install --upgrade pip\n"
     ]
    }
   ],
   "source": [
    "! pip install chromedriver_autoinstaller"
   ]
  },
  {
   "cell_type": "code",
   "execution_count": 3,
   "id": "92e4b960-6cec-40c1-aec6-69285fb4981b",
   "metadata": {},
   "outputs": [],
   "source": [
    "from selenium import webdriver\n",
    "from selenium.webdriver.common.keys import Keys\n"
   ]
  },
  {
   "cell_type": "code",
   "execution_count": 4,
   "id": "2e20f51f-40e5-4c7a-8892-27d86cda841b",
   "metadata": {},
   "outputs": [],
   "source": [
    "driver = webdriver.Chrome()"
   ]
  },
  {
   "cell_type": "code",
   "execution_count": 6,
   "id": "64504e41-48e5-477e-9b36-68b310a23929",
   "metadata": {},
   "outputs": [],
   "source": [
    "driver.get('https://www.google.com')"
   ]
  },
  {
   "cell_type": "code",
   "execution_count": 7,
   "id": "08c80701-ff01-469b-a3a1-43289f094d92",
   "metadata": {},
   "outputs": [],
   "source": [
    "search = driver.find_element('name', 'q')  # 구글의 검색창 요소의 이름을 찾는다\n",
    "search.send_keys('날씨')         # 검색창에 날씨라고 타이핑되게 "
   ]
  },
  {
   "cell_type": "code",
   "execution_count": 8,
   "id": "6edc0439-4176-4f74-b9df-f955d1174575",
   "metadata": {},
   "outputs": [],
   "source": [
    "search.send_keys(Keys.RETURN)"
   ]
  },
  {
   "cell_type": "code",
   "execution_count": 10,
   "id": "b17249cd-a2da-4038-bfac-b7b79b9ad132",
   "metadata": {},
   "outputs": [],
   "source": [
    "driver = webdriver.Chrome()\n",
    "driver.get('https://www.google.com')\n",
    "search = driver.find_element('name', 'q')  # 구글의 검색창 요소의 이름을 찾는다\n",
    "search.send_keys('날씨')\n",
    "search.send_keys(Keys.RETURN)"
   ]
  },
  {
   "cell_type": "code",
   "execution_count": null,
   "id": "458b2853-5d00-436b-8f6a-23e59928afc6",
   "metadata": {},
   "outputs": [],
   "source": []
  },
  {
   "cell_type": "markdown",
   "id": "a3b61204-af15-41cb-9041-8a337cfb06ab",
   "metadata": {},
   "source": [
    "# 2. 네이버 웹툰\n",
    "* https://comic.naver.com/webtoon/detail?titleId=769209&no=96&week=wed"
   ]
  },
  {
   "cell_type": "code",
   "execution_count": 15,
   "id": "53733892-64c3-47dd-8334-028accf1078a",
   "metadata": {},
   "outputs": [],
   "source": [
    "driver = webdriver.Chrome()\n",
    "driver.get('https://comic.naver.com/webtoon/detail?titleId=769209&no=96&week=wed')"
   ]
  },
  {
   "cell_type": "code",
   "execution_count": 16,
   "id": "a99d2229-f23d-4114-b318-aea27bedeeb1",
   "metadata": {},
   "outputs": [
    {
     "name": "stdout",
     "output_type": "stream",
     "text": [
      "Requirement already satisfied: bs4 in c:\\users\\kdhto\\appdata\\local\\programs\\python\\python311\\lib\\site-packages (0.0.1)\n",
      "Requirement already satisfied: beautifulsoup4 in c:\\users\\kdhto\\appdata\\local\\programs\\python\\python311\\lib\\site-packages (from bs4) (4.12.2)\n",
      "Requirement already satisfied: soupsieve>1.2 in c:\\users\\kdhto\\appdata\\local\\programs\\python\\python311\\lib\\site-packages (from beautifulsoup4->bs4) (2.5)\n"
     ]
    },
    {
     "name": "stderr",
     "output_type": "stream",
     "text": [
      "\n",
      "[notice] A new release of pip is available: 23.2.1 -> 23.3.1\n",
      "[notice] To update, run: C:\\Users\\kdhto\\AppData\\Local\\Programs\\Python\\Python311\\python.exe -m pip install --upgrade pip\n"
     ]
    }
   ],
   "source": [
    "!pip install bs4"
   ]
  },
  {
   "cell_type": "code",
   "execution_count": 13,
   "id": "0753ca5b-d07f-4e13-a758-f3be6765900d",
   "metadata": {},
   "outputs": [],
   "source": [
    "from bs4 import BeautifulSoup"
   ]
  },
  {
   "cell_type": "code",
   "execution_count": 19,
   "id": "7ee04353-5f03-4577-8ba8-01efb7e730b6",
   "metadata": {},
   "outputs": [],
   "source": [
    "soup = BeautifulSoup(driver.page_source)"
   ]
  },
  {
   "cell_type": "code",
   "execution_count": 22,
   "id": "31eae319-2f30-4bec-912d-52a0368388a9",
   "metadata": {},
   "outputs": [
    {
     "name": "stdout",
     "output_type": "stream",
     "text": [
      "[<span class=\"u_cbox_contents\" data-lang=\"ko\" style=\"\">여기서끊어??여기서끊어??여기서끊어??여기서끊어??여기서끊어??여기서끊어??여기서끊어??여기서끊어??여기서끊어??여기서끊어??여기서끊어??여기서끊어??여기서끊어??여기서끊어??여기서끊어??여기서끊어??여기서끊어??여기서끊어??여기서끊어??여기서끊어??여기서끊어??여기서끊어??여기서끊어??여기서끊어??여기서끊어??여기서끊어??여기서끊어??여기서끊어??여기서끊어??여기서끊어??여기서끊어??여기서끊어??여기서끊어??여기서끊어??여기서끊어??여기서끊어??여기서끊어??여기서끊어??여기서끊어??여기서끊어??여기서끊어??여기서끊어??여기서끊어??여기서끊어??여기서끊어??여기서끊어??여기서끊어??여기서끊어??여기서끊어??여기서끊어??여기서끊어??여기서끊어??여기서끊어??여기서끊어??여기서끊어??여기서끊어??여기서끊어??여기서끊어??여기서끊어??여기서끊어??여기서끊어??여기서끊어??여기서끊어??여기서끊어??여기서끊어??여기서끊어??여기서끊어??여기서끊어??여기서끊어??여기서끊어??여기서끊어??</span>, <span class=\"u_cbox_contents\" data-lang=\"ko\" style=\"\">여러분 청명이 ISTP래요... 저게 어딜봐서 I야...\n",
      "\n",
      "그냥 IN THE ZONE (무아지경)이지...</span>, <span class=\"u_cbox_contents\" data-lang=\"ko\" style=\"\">장문사형 내가 천하제일인을 무슨 수로 패냐 ㅋㅋㅋ그래도 사제들이랑 같이 다구리치면 이기지 않을까 사제들도 다 거기 있으니까</span>, <span class=\"u_cbox_contents\" data-lang=\"ko\" style=\"\">약선 광기 오진다 저거 퀘스트 깨게 하려고 박쥐들까지 데리고 온거임?</span>, <span class=\"u_cbox_contents\" data-lang=\"ko\" style=\"\">소설로 볼땐 음 좀 많구나 했는데 ㅇㄴ 이건 너무 많은거 아녜요?</span>, <span class=\"u_cbox_contents\" data-lang=\"ko\" style=\"\">ㅋㅋㅋㅋㅋ 물에 장문사형 비치는거 개웃김 이맛에 소설도보고 웹툰도보지..</span>, <span class=\"u_cbox_contents\" data-lang=\"ko\" style=\"\">야명주 어디갔지? 했는데 등에다가 다 넣었구나 ㅋㅋ조걸이랑 윤종이 도망칠때 겨우 찾았네</span>, <span class=\"u_cbox_contents\" data-lang=\"ko\" style=\"\">다 뛰는데 왜 동룡이한테만 그래..ㅠㅠㅋㅋㅋㅋㅋㅋㅋㅋㅋㅋㅋㅋㅋ</span>, <span class=\"u_cbox_contents\" data-lang=\"ko\" style=\"\">얘들아 뭔소리야 내용이 없다니.. 한 화에 검총 퀘스트 한개씩 나오잖아</span>, <span class=\"u_cbox_contents\" data-lang=\"ko\" style=\"\">🌋화산귀환 회차 알리미🌋\n",
      "이어 보시려면 151화 77%지점 부터 보시면 됩니다!\n",
      "\n",
      "소설은 네이버 시리즈에 화산귀환 검색하셔서 보시면 됩니다!</span>, <span class=\"u_cbox_contents\" data-lang=\"ko\" style=\"\">장문사형ㅋㅋㅋㅋㅋㅋㅋㅋㅋㅋㅋㅋㅋㅋㅋㅋ 왜 물에 계세요ㅠㅠㅠㅠㅠ 그것도 동굴에 있는 이런 누추한 물에... 아놔ㅋㅋㅋㅋㅋㅋㅋㅋㅋㅋㅋㅠㅠㅠㅠㅠㅠㅠㅠㅠㅠ</span>, <span class=\"u_cbox_contents\" data-lang=\"ko\" style=\"\">아니 그....좀 뜬금없긴 한데...청명이가 중간에 손 멍든거 보니까...소설본 사람으로서 갑자기 넘 안쓰럽....우리 청명이...그냥 계속 멍, 상처없이 건강하면 좋겠어</span>, <span class=\"u_cbox_contents\" data-lang=\"ko\" style=\"\">어지간한 고수들은 한마리도 잡기 어렵다..\n",
      "청명이 못잡는다곤 안했다</span>, <span class=\"u_cbox_contents\" data-lang=\"ko\" style=\"\">청명이가 참 고생이 많다....</span>, <span class=\"u_cbox_contents\" data-lang=\"ko\" style=\"\">the jo</span>]\n"
     ]
    }
   ],
   "source": [
    "comment_area = soup.findAll('span', {'class', 'u_cbox_contents'})\n",
    "print(comment_area)"
   ]
  },
  {
   "cell_type": "code",
   "execution_count": 23,
   "id": "ad45bd76-4a2b-43c8-b56f-f735cb0dfa83",
   "metadata": {},
   "outputs": [
    {
     "name": "stdout",
     "output_type": "stream",
     "text": [
      "********** 베스트 댓글 *********\n",
      "여기서끊어??여기서끊어??여기서끊어??여기서끊어??여기서끊어??여기서끊어??여기서끊어??여기서끊어??여기서끊어??여기서끊어??여기서끊어??여기서끊어??여기서끊어??여기서끊어??여기서끊어??여기서끊어??여기서끊어??여기서끊어??여기서끊어??여기서끊어??여기서끊어??여기서끊어??여기서끊어??여기서끊어??여기서끊어??여기서끊어??여기서끊어??여기서끊어??여기서끊어??여기서끊어??여기서끊어??여기서끊어??여기서끊어??여기서끊어??여기서끊어??여기서끊어??여기서끊어??여기서끊어??여기서끊어??여기서끊어??여기서끊어??여기서끊어??여기서끊어??여기서끊어??여기서끊어??여기서끊어??여기서끊어??여기서끊어??여기서끊어??여기서끊어??여기서끊어??여기서끊어??여기서끊어??여기서끊어??여기서끊어??여기서끊어??여기서끊어??여기서끊어??여기서끊어??여기서끊어??여기서끊어??여기서끊어??여기서끊어??여기서끊어??여기서끊어??여기서끊어??여기서끊어??여기서끊어??여기서끊어??여기서끊어??여기서끊어??\n",
      "------------------------------\n",
      "여러분 청명이 ISTP래요... 저게 어딜봐서 I야...\n",
      "\n",
      "그냥 IN THE ZONE (무아지경)이지...\n",
      "------------------------------\n",
      "장문사형 내가 천하제일인을 무슨 수로 패냐 ㅋㅋㅋ그래도 사제들이랑 같이 다구리치면 이기지 않을까 사제들도 다 거기 있으니까\n",
      "------------------------------\n",
      "약선 광기 오진다 저거 퀘스트 깨게 하려고 박쥐들까지 데리고 온거임?\n",
      "------------------------------\n",
      "소설로 볼땐 음 좀 많구나 했는데 ㅇㄴ 이건 너무 많은거 아녜요?\n",
      "------------------------------\n",
      "ㅋㅋㅋㅋㅋ 물에 장문사형 비치는거 개웃김 이맛에 소설도보고 웹툰도보지..\n",
      "------------------------------\n",
      "야명주 어디갔지? 했는데 등에다가 다 넣었구나 ㅋㅋ조걸이랑 윤종이 도망칠때 겨우 찾았네\n",
      "------------------------------\n",
      "다 뛰는데 왜 동룡이한테만 그래..ㅠㅠㅋㅋㅋㅋㅋㅋㅋㅋㅋㅋㅋㅋㅋ\n",
      "------------------------------\n",
      "얘들아 뭔소리야 내용이 없다니.. 한 화에 검총 퀘스트 한개씩 나오잖아\n",
      "------------------------------\n",
      "🌋화산귀환 회차 알리미🌋\n",
      "이어 보시려면 151화 77%지점 부터 보시면 됩니다!\n",
      "\n",
      "소설은 네이버 시리즈에 화산귀환 검색하셔서 보시면 됩니다!\n",
      "------------------------------\n",
      "장문사형ㅋㅋㅋㅋㅋㅋㅋㅋㅋㅋㅋㅋㅋㅋㅋㅋ 왜 물에 계세요ㅠㅠㅠㅠㅠ 그것도 동굴에 있는 이런 누추한 물에... 아놔ㅋㅋㅋㅋㅋㅋㅋㅋㅋㅋㅋㅠㅠㅠㅠㅠㅠㅠㅠㅠㅠ\n",
      "------------------------------\n",
      "아니 그....좀 뜬금없긴 한데...청명이가 중간에 손 멍든거 보니까...소설본 사람으로서 갑자기 넘 안쓰럽....우리 청명이...그냥 계속 멍, 상처없이 건강하면 좋겠어\n",
      "------------------------------\n",
      "어지간한 고수들은 한마리도 잡기 어렵다..\n",
      "청명이 못잡는다곤 안했다\n",
      "------------------------------\n",
      "청명이가 참 고생이 많다....\n",
      "------------------------------\n",
      "the jo\n",
      "------------------------------\n"
     ]
    }
   ],
   "source": [
    "print('********** 베스트 댓글 *********')\n",
    "for i in range(len(comment_area)):\n",
    "    comment = comment_area[i].text.strip()\n",
    "    print(comment)\n",
    "    print('-' * 30)"
   ]
  },
  {
   "cell_type": "markdown",
   "id": "b01b5c0a-409f-42fa-988b-01d7a8674ccb",
   "metadata": {},
   "source": [
    "* XPath : 기존의 컴퓨터 파일 시스템에서 사용하는 경로 표현식과 유사한 경로언어\n",
    "* "
   ]
  },
  {
   "cell_type": "code",
   "execution_count": null,
   "id": "42e18e4f-30b7-409c-95e7-553cfc87a2c8",
   "metadata": {},
   "outputs": [],
   "source": [
    "soup = BeautifulSoup(dirver.page_source)\n",
    "comment_area soup.findAll('span', {'class' : "
   ]
  }
 ],
 "metadata": {
  "kernelspec": {
   "display_name": "Python 3 (ipykernel)",
   "language": "python",
   "name": "python3"
  },
  "language_info": {
   "codemirror_mode": {
    "name": "ipython",
    "version": 3
   },
   "file_extension": ".py",
   "mimetype": "text/x-python",
   "name": "python",
   "nbconvert_exporter": "python",
   "pygments_lexer": "ipython3",
   "version": "3.11.5"
  }
 },
 "nbformat": 4,
 "nbformat_minor": 5
}
